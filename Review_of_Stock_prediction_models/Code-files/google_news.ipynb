{
  "nbformat": 4,
  "nbformat_minor": 0,
  "metadata": {
    "colab": {
      "name": "google_news.ipynb",
      "provenance": [],
      "collapsed_sections": []
    },
    "kernelspec": {
      "name": "python3",
      "display_name": "Python 3"
    },
    "language_info": {
      "name": "python"
    }
  },
  "cells": [
    {
      "cell_type": "code",
      "metadata": {
        "id": "zTlgdQJeoUMB"
      },
      "source": [
        "from pygooglenews import GoogleNews"
      ],
      "execution_count": null,
      "outputs": []
    },
    {
      "cell_type": "code",
      "metadata": {
        "id": "dJHoj_F2ozl3"
      },
      "source": [
        "def get_titles(search,fname):\n",
        "  gn=GoogleNews(lang='en',country='India')\n",
        "  search=gn.search(search,from_ = '2018-01-01')\n",
        "  newsitems=search['entries']\n",
        "  news=[]\n",
        "  for item in newsitems:\n",
        "    news.append(item.title)\n",
        "  df=pd.DataFrame({'news':news})\n",
        "  f_name=fname+\".csv\"\n",
        "  df.to_csv(f_name,index=False)"
      ],
      "execution_count": null,
      "outputs": []
    },
    {
      "cell_type": "code",
      "metadata": {
        "id": "Dp-tiyYEp-GA"
      },
      "source": [
        "import pandas as pd\n",
        "get_titles(\"Indian Oil Corporation\",\"IO\")"
      ],
      "execution_count": null,
      "outputs": []
    },
    {
      "cell_type": "code",
      "metadata": {
        "id": "8oCZvCB8wjyq",
        "colab": {
          "base_uri": "https://localhost:8080/",
          "height": 203
        },
        "outputId": "6f09d8a3-bab7-4313-98f9-f836117626fb"
      },
      "source": [
        "import pandas as pd\n",
        "df=pd.read_csv(\"IO.csv\")\n",
        "df.head()"
      ],
      "execution_count": null,
      "outputs": [
        {
          "output_type": "execute_result",
          "data": {
            "text/html": [
              "<div>\n",
              "<style scoped>\n",
              "    .dataframe tbody tr th:only-of-type {\n",
              "        vertical-align: middle;\n",
              "    }\n",
              "\n",
              "    .dataframe tbody tr th {\n",
              "        vertical-align: top;\n",
              "    }\n",
              "\n",
              "    .dataframe thead th {\n",
              "        text-align: right;\n",
              "    }\n",
              "</style>\n",
              "<table border=\"1\" class=\"dataframe\">\n",
              "  <thead>\n",
              "    <tr style=\"text-align: right;\">\n",
              "      <th></th>\n",
              "      <th>news</th>\n",
              "    </tr>\n",
              "  </thead>\n",
              "  <tbody>\n",
              "    <tr>\n",
              "      <th>0</th>\n",
              "      <td>Indian Oil Corporation (IOCL) announces new jo...</td>\n",
              "    </tr>\n",
              "    <tr>\n",
              "      <th>1</th>\n",
              "      <td>Indian Oil Corporation Q1 PAT seen up 76.2% Yo...</td>\n",
              "    </tr>\n",
              "    <tr>\n",
              "      <th>2</th>\n",
              "      <td>1 mn barrels of Guyanese Liza crude loaded for...</td>\n",
              "    </tr>\n",
              "    <tr>\n",
              "      <th>3</th>\n",
              "      <td>Tata Motors bags order of 15 hydrogen-based fu...</td>\n",
              "    </tr>\n",
              "    <tr>\n",
              "      <th>4</th>\n",
              "      <td>IOC buys oil from Guyana, signs up term pact f...</td>\n",
              "    </tr>\n",
              "  </tbody>\n",
              "</table>\n",
              "</div>"
            ],
            "text/plain": [
              "                                                news\n",
              "0  Indian Oil Corporation (IOCL) announces new jo...\n",
              "1  Indian Oil Corporation Q1 PAT seen up 76.2% Yo...\n",
              "2  1 mn barrels of Guyanese Liza crude loaded for...\n",
              "3  Tata Motors bags order of 15 hydrogen-based fu...\n",
              "4  IOC buys oil from Guyana, signs up term pact f..."
            ]
          },
          "metadata": {
            "tags": []
          },
          "execution_count": 7
        }
      ]
    },
    {
      "cell_type": "code",
      "metadata": {
        "id": "L8J_yKz7qKUN"
      },
      "source": [
        ""
      ],
      "execution_count": null,
      "outputs": []
    }
  ]
}