{
  "nbformat": 4,
  "nbformat_minor": 0,
  "metadata": {
    "colab": {
      "name": "tweets.ipynb",
      "provenance": []
    },
    "kernelspec": {
      "name": "python3",
      "display_name": "Python 3"
    },
    "language_info": {
      "name": "python"
    }
  },
  "cells": [
    {
      "cell_type": "code",
      "metadata": {
        "id": "dhBFMPqMg4Vy"
      },
      "source": [
        "consumer_key=\"WiRtN39q11T2MFUwfa0ouNx3B\"\n",
        "consumer_secret=\"VoqfSJsSrIQTeLOkHF1BAAiP91YOb9EGsqTNlMijIjpKCcour6\"\n",
        "access_token=\"1255027424686817286-rEWXwqFf5rugDUzq8sZ4pxMgcEMjmG\"\n",
        "access_token_secret=\"UFNjD7deZoUrUJyKHH3Ol2F2fPUYQt6jxy8GYvK3N1e9Z\""
      ],
      "execution_count": null,
      "outputs": []
    },
    {
      "cell_type": "code",
      "metadata": {
        "id": "oo_QzEHdhQ-_"
      },
      "source": [
        "import tweepy\n",
        "import pandas as pd\n",
        "import regex as re\n",
        "import csv"
      ],
      "execution_count": null,
      "outputs": []
    },
    {
      "cell_type": "code",
      "metadata": {
        "id": "7wuEtCF1hTih"
      },
      "source": [
        "auth = tweepy.OAuthHandler(consumer_key, consumer_secret)\n",
        "auth.set_access_token(access_token, access_token_secret)\n",
        "api=tweepy.API(auth)"
      ],
      "execution_count": null,
      "outputs": []
    },
    {
      "cell_type": "code",
      "metadata": {
        "id": "m4C6Gp-7hhpH"
      },
      "source": [
        "def scrap(hashtag_phrase,fname):\n",
        "  count=500\n",
        "  tweets=[]\n",
        "  likes=[]\n",
        "  followers=[]\n",
        "  time=[]\n",
        "  for i in tweepy.Cursor(api.search, q=hashtag_phrase+' -filter:retweets', lang=\"en\", tweet_mode='extended').items(count):\n",
        "    tweets.append(i.full_text)\n",
        "    likes.append(i.favorite_count)\n",
        "    time.append(i.created_at)\n",
        "    followers.append(i.user.followers_count)\n",
        "    df=pd.DataFrame({'tweets':tweets,'likes':likes,'followers':followers,'time':time})\n",
        "    f_name=fname+\".csv\"\n",
        "    df.to_csv(f_name,index=False)"
      ],
      "execution_count": null,
      "outputs": []
    },
    {
      "cell_type": "code",
      "metadata": {
        "colab": {
          "base_uri": "https://localhost:8080/"
        },
        "id": "_Ufr_g6whtA-",
        "outputId": "87017ea5-113f-49ee-b193-dd6d629386ad"
      },
      "source": [
        "hashtag=input('Hastag phrase:')\n",
        "file_name=input('File name:')\n",
        "if __name__ == '__main__':\n",
        "    scrap(hashtag,file_name)"
      ],
      "execution_count": null,
      "outputs": [
        {
          "output_type": "stream",
          "text": [
            "Hastag phrase:#nestleindia\n",
            "File name:temp2\n"
          ],
          "name": "stdout"
        }
      ]
    },
    {
      "cell_type": "code",
      "metadata": {
        "id": "VCZ1Mp4A4q1K"
      },
      "source": [
        "import pandas as pd\n",
        "import re"
      ],
      "execution_count": null,
      "outputs": []
    },
    {
      "cell_type": "code",
      "metadata": {
        "colab": {
          "base_uri": "https://localhost:8080/",
          "height": 203
        },
        "id": "-z8DWNh-4_ot",
        "outputId": "a70872be-2f55-46c3-ace0-d2475d3064e8"
      },
      "source": [
        "df=pd.read_csv(\"temp1.csv\")\n",
        "df.head()"
      ],
      "execution_count": null,
      "outputs": [
        {
          "output_type": "execute_result",
          "data": {
            "text/html": [
              "<div>\n",
              "<style scoped>\n",
              "    .dataframe tbody tr th:only-of-type {\n",
              "        vertical-align: middle;\n",
              "    }\n",
              "\n",
              "    .dataframe tbody tr th {\n",
              "        vertical-align: top;\n",
              "    }\n",
              "\n",
              "    .dataframe thead th {\n",
              "        text-align: right;\n",
              "    }\n",
              "</style>\n",
              "<table border=\"1\" class=\"dataframe\">\n",
              "  <thead>\n",
              "    <tr style=\"text-align: right;\">\n",
              "      <th></th>\n",
              "      <th>tweets</th>\n",
              "      <th>likes</th>\n",
              "      <th>followers</th>\n",
              "      <th>time</th>\n",
              "    </tr>\n",
              "  </thead>\n",
              "  <tbody>\n",
              "    <tr>\n",
              "      <th>0</th>\n",
              "      <td>#ajio makes it impossible to connect with them...</td>\n",
              "      <td>0</td>\n",
              "      <td>424</td>\n",
              "      <td>2021-07-18 18:42:31</td>\n",
              "    </tr>\n",
              "    <tr>\n",
              "      <th>1</th>\n",
              "      <td>Reliance industries Jamnagar #Reliance https:/...</td>\n",
              "      <td>0</td>\n",
              "      <td>87</td>\n",
              "      <td>2021-07-18 18:42:00</td>\n",
              "    </tr>\n",
              "    <tr>\n",
              "      <th>2</th>\n",
              "      <td>Video on Just Dial and Reliance Retail is sche...</td>\n",
              "      <td>0</td>\n",
              "      <td>364</td>\n",
              "      <td>2021-07-18 17:56:05</td>\n",
              "    </tr>\n",
              "    <tr>\n",
              "      <th>3</th>\n",
              "      <td>The Big Giant #Reliance shows the same set up ...</td>\n",
              "      <td>1</td>\n",
              "      <td>24</td>\n",
              "      <td>2021-07-18 17:47:01</td>\n",
              "    </tr>\n",
              "    <tr>\n",
              "      <th>4</th>\n",
              "      <td>ANALYSIS.....! \\n#NIFTY 50\\n#NIFTYBANK \\n#NIFT...</td>\n",
              "      <td>3</td>\n",
              "      <td>3</td>\n",
              "      <td>2021-07-18 17:28:26</td>\n",
              "    </tr>\n",
              "  </tbody>\n",
              "</table>\n",
              "</div>"
            ],
            "text/plain": [
              "                                              tweets  ...                 time\n",
              "0  #ajio makes it impossible to connect with them...  ...  2021-07-18 18:42:31\n",
              "1  Reliance industries Jamnagar #Reliance https:/...  ...  2021-07-18 18:42:00\n",
              "2  Video on Just Dial and Reliance Retail is sche...  ...  2021-07-18 17:56:05\n",
              "3  The Big Giant #Reliance shows the same set up ...  ...  2021-07-18 17:47:01\n",
              "4  ANALYSIS.....! \\n#NIFTY 50\\n#NIFTYBANK \\n#NIFT...  ...  2021-07-18 17:28:26\n",
              "\n",
              "[5 rows x 4 columns]"
            ]
          },
          "metadata": {
            "tags": []
          },
          "execution_count": 14
        }
      ]
    },
    {
      "cell_type": "code",
      "metadata": {
        "id": "u3xsIvL75Ds7"
      },
      "source": [
        "df[\"tweets\"]=str(df[\"tweets\"])\n",
        "df[\"tweets\"]=re.sub(r\"[^\\w\\s]\", \"\",str(df[\"tweets\"]))\n",
        "df[\"tweets\"]=re.sub(r\"[0-9]\", \"\",str(df[\"tweets\"]))\n",
        "df[\"tweets\"]=re.sub(\"[^A-Za-z0-9]+\",\" \",str(df[\"tweets\"]))\n",
        "df[\"tweets\"]=re.sub(\"https://\", \"\",str(df[\"tweets\"]))"
      ],
      "execution_count": null,
      "outputs": []
    },
    {
      "cell_type": "code",
      "metadata": {
        "colab": {
          "base_uri": "https://localhost:8080/",
          "height": 203
        },
        "id": "u6teskKH6MTS",
        "outputId": "bc0fb440-23f6-4d63-da34-aae13185b6b9"
      },
      "source": [
        "df.head()"
      ],
      "execution_count": null,
      "outputs": [
        {
          "output_type": "execute_result",
          "data": {
            "text/html": [
              "<div>\n",
              "<style scoped>\n",
              "    .dataframe tbody tr th:only-of-type {\n",
              "        vertical-align: middle;\n",
              "    }\n",
              "\n",
              "    .dataframe tbody tr th {\n",
              "        vertical-align: top;\n",
              "    }\n",
              "\n",
              "    .dataframe thead th {\n",
              "        text-align: right;\n",
              "    }\n",
              "</style>\n",
              "<table border=\"1\" class=\"dataframe\">\n",
              "  <thead>\n",
              "    <tr style=\"text-align: right;\">\n",
              "      <th></th>\n",
              "      <th>tweets</th>\n",
              "      <th>likes</th>\n",
              "      <th>followers</th>\n",
              "      <th>time</th>\n",
              "    </tr>\n",
              "  </thead>\n",
              "  <tbody>\n",
              "    <tr>\n",
              "      <th>0</th>\n",
              "      <td>0      0 ajio makes it impossible to 1 ajio ma...</td>\n",
              "      <td>0</td>\n",
              "      <td>424</td>\n",
              "      <td>2021-07-18 18:42:31</td>\n",
              "    </tr>\n",
              "    <tr>\n",
              "      <th>1</th>\n",
              "      <td>0      0 ajio makes it impossible to 1 ajio ma...</td>\n",
              "      <td>0</td>\n",
              "      <td>87</td>\n",
              "      <td>2021-07-18 18:42:00</td>\n",
              "    </tr>\n",
              "    <tr>\n",
              "      <th>2</th>\n",
              "      <td>0      0 ajio makes it impossible to 1 ajio ma...</td>\n",
              "      <td>0</td>\n",
              "      <td>364</td>\n",
              "      <td>2021-07-18 17:56:05</td>\n",
              "    </tr>\n",
              "    <tr>\n",
              "      <th>3</th>\n",
              "      <td>0      0 ajio makes it impossible to 1 ajio ma...</td>\n",
              "      <td>1</td>\n",
              "      <td>24</td>\n",
              "      <td>2021-07-18 17:47:01</td>\n",
              "    </tr>\n",
              "    <tr>\n",
              "      <th>4</th>\n",
              "      <td>0      0 ajio makes it impossible to 1 ajio ma...</td>\n",
              "      <td>3</td>\n",
              "      <td>3</td>\n",
              "      <td>2021-07-18 17:28:26</td>\n",
              "    </tr>\n",
              "  </tbody>\n",
              "</table>\n",
              "</div>"
            ],
            "text/plain": [
              "                                              tweets  ...                 time\n",
              "0  0      0 ajio makes it impossible to 1 ajio ma...  ...  2021-07-18 18:42:31\n",
              "1  0      0 ajio makes it impossible to 1 ajio ma...  ...  2021-07-18 18:42:00\n",
              "2  0      0 ajio makes it impossible to 1 ajio ma...  ...  2021-07-18 17:56:05\n",
              "3  0      0 ajio makes it impossible to 1 ajio ma...  ...  2021-07-18 17:47:01\n",
              "4  0      0 ajio makes it impossible to 1 ajio ma...  ...  2021-07-18 17:28:26\n",
              "\n",
              "[5 rows x 4 columns]"
            ]
          },
          "metadata": {
            "tags": []
          },
          "execution_count": 16
        }
      ]
    },
    {
      "cell_type": "code",
      "metadata": {
        "id": "siB48q3c6NQs"
      },
      "source": [
        ""
      ],
      "execution_count": null,
      "outputs": []
    }
  ]
}