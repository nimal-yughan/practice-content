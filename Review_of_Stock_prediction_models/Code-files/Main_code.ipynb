{
 "cells": [
  {
   "cell_type": "markdown",
   "metadata": {
    "id": "ovTmomqdq9te"
   },
   "source": [
    "**Stock Price performance and Price Prediction:**"
   ]
  },
  {
   "cell_type": "markdown",
   "metadata": {
    "id": "PZ4f4ulxrKS9"
   },
   "source": [
    "1) Sentiment Analysis of news and tweets of a company using BERT: Test Accuracy is 80%"
   ]
  },
  {
   "cell_type": "code",
   "execution_count": null,
   "metadata": {
    "id": "iZYz_A_UQuAM"
   },
   "outputs": [],
   "source": [
    "\n",
    "from transformers import AutoTokenizer, AutoModelForSequenceClassification\n",
    "import torch\n",
    "import requests\n",
    "import re\n",
    "import warnings\n",
    "warnings.filterwarnings('ignore')"
   ]
  },
  {
   "cell_type": "code",
   "execution_count": null,
   "metadata": {
    "colab": {
     "base_uri": "https://localhost:8080/"
    },
    "id": "30I2b2syQ3Ek",
    "outputId": "13183311-3bf9-462c-9ab9-de1bad2fc94c"
   },
   "outputs": [
    {
     "name": "stdout",
     "output_type": "stream",
     "text": [
      "Requirement already satisfied: transformers in /usr/local/lib/python3.7/dist-packages (4.8.2)\n",
      "Requirement already satisfied: numpy>=1.17 in /usr/local/lib/python3.7/dist-packages (from transformers) (1.19.5)\n",
      "Requirement already satisfied: tokenizers<0.11,>=0.10.1 in /usr/local/lib/python3.7/dist-packages (from transformers) (0.10.3)\n",
      "Requirement already satisfied: importlib-metadata in /usr/local/lib/python3.7/dist-packages (from transformers) (4.6.1)\n",
      "Requirement already satisfied: packaging in /usr/local/lib/python3.7/dist-packages (from transformers) (21.0)\n",
      "Requirement already satisfied: tqdm>=4.27 in /usr/local/lib/python3.7/dist-packages (from transformers) (4.41.1)\n",
      "Requirement already satisfied: pyyaml in /usr/local/lib/python3.7/dist-packages (from transformers) (3.13)\n",
      "Requirement already satisfied: sacremoses in /usr/local/lib/python3.7/dist-packages (from transformers) (0.0.45)\n",
      "Requirement already satisfied: filelock in /usr/local/lib/python3.7/dist-packages (from transformers) (3.0.12)\n",
      "Requirement already satisfied: requests in /usr/local/lib/python3.7/dist-packages (from transformers) (2.23.0)\n",
      "Requirement already satisfied: regex!=2019.12.17 in /usr/local/lib/python3.7/dist-packages (from transformers) (2019.12.20)\n",
      "Requirement already satisfied: huggingface-hub==0.0.12 in /usr/local/lib/python3.7/dist-packages (from transformers) (0.0.12)\n",
      "Requirement already satisfied: typing-extensions in /usr/local/lib/python3.7/dist-packages (from huggingface-hub==0.0.12->transformers) (3.7.4.3)\n",
      "Requirement already satisfied: pyparsing>=2.0.2 in /usr/local/lib/python3.7/dist-packages (from packaging->transformers) (2.4.7)\n",
      "Requirement already satisfied: zipp>=0.5 in /usr/local/lib/python3.7/dist-packages (from importlib-metadata->transformers) (3.5.0)\n",
      "Requirement already satisfied: urllib3!=1.25.0,!=1.25.1,<1.26,>=1.21.1 in /usr/local/lib/python3.7/dist-packages (from requests->transformers) (1.24.3)\n",
      "Requirement already satisfied: certifi>=2017.4.17 in /usr/local/lib/python3.7/dist-packages (from requests->transformers) (2021.5.30)\n",
      "Requirement already satisfied: idna<3,>=2.5 in /usr/local/lib/python3.7/dist-packages (from requests->transformers) (2.10)\n",
      "Requirement already satisfied: chardet<4,>=3.0.2 in /usr/local/lib/python3.7/dist-packages (from requests->transformers) (3.0.4)\n",
      "Requirement already satisfied: six in /usr/local/lib/python3.7/dist-packages (from sacremoses->transformers) (1.15.0)\n",
      "Requirement already satisfied: joblib in /usr/local/lib/python3.7/dist-packages (from sacremoses->transformers) (1.0.1)\n",
      "Requirement already satisfied: click in /usr/local/lib/python3.7/dist-packages (from sacremoses->transformers) (7.1.2)\n"
     ]
    }
   ],
   "source": [
    "!pip install transformers"
   ]
  },
  {
   "cell_type": "code",
   "execution_count": null,
   "metadata": {
    "colab": {
     "base_uri": "https://localhost:8080/",
     "height": 203
    },
    "id": "CtfP9I2lRJMH",
    "outputId": "a6cb0016-324f-41c3-a632-96bec77c9889"
   },
   "outputs": [
    {
     "data": {
      "text/html": [
       "<div>\n",
       "<style scoped>\n",
       "    .dataframe tbody tr th:only-of-type {\n",
       "        vertical-align: middle;\n",
       "    }\n",
       "\n",
       "    .dataframe tbody tr th {\n",
       "        vertical-align: top;\n",
       "    }\n",
       "\n",
       "    .dataframe thead th {\n",
       "        text-align: right;\n",
       "    }\n",
       "</style>\n",
       "<table border=\"1\" class=\"dataframe\">\n",
       "  <thead>\n",
       "    <tr style=\"text-align: right;\">\n",
       "      <th></th>\n",
       "      <th>Final</th>\n",
       "    </tr>\n",
       "  </thead>\n",
       "  <tbody>\n",
       "    <tr>\n",
       "      <th>0</th>\n",
       "      <td>reliance industry o2c new energy biz may valu...</td>\n",
       "    </tr>\n",
       "    <tr>\n",
       "      <th>1</th>\n",
       "      <td>ril parameter rose 158% one year</td>\n",
       "    </tr>\n",
       "    <tr>\n",
       "      <th>2</th>\n",
       "      <td>ltâs best value play  expect reliance dilip bhat</td>\n",
       "    </tr>\n",
       "    <tr>\n",
       "      <th>3</th>\n",
       "      <td>ril share price end flat tuesday even sensex ...</td>\n",
       "    </tr>\n",
       "    <tr>\n",
       "      <th>4</th>\n",
       "      <td>india reliance industry plan 10 billion clean...</td>\n",
       "    </tr>\n",
       "  </tbody>\n",
       "</table>\n",
       "</div>"
      ],
      "text/plain": [
       "                                               Final\n",
       "0   reliance industry o2c new energy biz may valu...\n",
       "1                   ril parameter rose 158% one year\n",
       "2   ltâs best value play  expect reliance dilip bhat\n",
       "3   ril share price end flat tuesday even sensex ...\n",
       "4   india reliance industry plan 10 billion clean..."
      ]
     },
     "execution_count": 123,
     "metadata": {
      "tags": []
     },
     "output_type": "execute_result"
    }
   ],
   "source": [
    "import pandas as pd\n",
    "df=pd.read_csv(\"Reliance-final-news.csv\")\n",
    "df.head()"
   ]
  },
  {
   "cell_type": "code",
   "execution_count": null,
   "metadata": {
    "id": "a4KvnzMkRhtI"
   },
   "outputs": [],
   "source": [
    "tokenizer=AutoTokenizer.from_pretrained('nlptown/bert-base-multilingual-uncased-sentiment')\n",
    "model=AutoModelForSequenceClassification.from_pretrained('nlptown/bert-base-multilingual-uncased-sentiment')"
   ]
  },
  {
   "cell_type": "code",
   "execution_count": null,
   "metadata": {
    "id": "KzqBSEmVRX2C"
   },
   "outputs": [],
   "source": [
    "#Bert sentiment scoring\n",
    "def sentiment_score(text):\n",
    "  tokens=tokenizer.encode(text,return_tensors='pt')\n",
    "  result=model(tokens)\n",
    "  return int(torch.argmax(result.logits))+1"
   ]
  },
  {
   "cell_type": "code",
   "execution_count": null,
   "metadata": {
    "id": "4sSCOC5QRbdj"
   },
   "outputs": [],
   "source": [
    "df['sentiment']=df['Final'].apply(lambda x: sentiment_score(x))"
   ]
  },
  {
   "cell_type": "code",
   "execution_count": null,
   "metadata": {
    "colab": {
     "base_uri": "https://localhost:8080/"
    },
    "id": "mw5c1hgSRgAd",
    "outputId": "29c9bb0e-8ea1-4b6c-fc9a-0f24fc2d04c5"
   },
   "outputs": [
    {
     "data": {
      "text/plain": [
       "3.73"
      ]
     },
     "execution_count": 127,
     "metadata": {
      "tags": []
     },
     "output_type": "execute_result"
    }
   ],
   "source": [
    "import numpy as np\n",
    "np.mean(df['sentiment'])"
   ]
  },
  {
   "cell_type": "code",
   "execution_count": null,
   "metadata": {
    "id": "E1hV5hL_af9Q"
   },
   "outputs": [],
   "source": [
    "def to_sentiment(rating):\n",
    "  rating = int(rating)\n",
    "  if rating <= 2:\n",
    "    return 0\n",
    "  else:\n",
    "    return 1\n",
    "df['sentiment'] = df.sentiment.apply(to_sentiment)"
   ]
  },
  {
   "cell_type": "code",
   "execution_count": null,
   "metadata": {
    "colab": {
     "base_uri": "https://localhost:8080/",
     "height": 203
    },
    "id": "jprE1wpHehew",
    "outputId": "bd72ef7a-d0b3-4385-e989-998dbab3edb5"
   },
   "outputs": [
    {
     "data": {
      "text/html": [
       "<div>\n",
       "<style scoped>\n",
       "    .dataframe tbody tr th:only-of-type {\n",
       "        vertical-align: middle;\n",
       "    }\n",
       "\n",
       "    .dataframe tbody tr th {\n",
       "        vertical-align: top;\n",
       "    }\n",
       "\n",
       "    .dataframe thead th {\n",
       "        text-align: right;\n",
       "    }\n",
       "</style>\n",
       "<table border=\"1\" class=\"dataframe\">\n",
       "  <thead>\n",
       "    <tr style=\"text-align: right;\">\n",
       "      <th></th>\n",
       "      <th>Final</th>\n",
       "      <th>sentiment</th>\n",
       "    </tr>\n",
       "  </thead>\n",
       "  <tbody>\n",
       "    <tr>\n",
       "      <th>0</th>\n",
       "      <td>reliance industry o2c new energy biz may valu...</td>\n",
       "      <td>1</td>\n",
       "    </tr>\n",
       "    <tr>\n",
       "      <th>1</th>\n",
       "      <td>ril parameter rose 158% one year</td>\n",
       "      <td>0</td>\n",
       "    </tr>\n",
       "    <tr>\n",
       "      <th>2</th>\n",
       "      <td>ltâs best value play  expect reliance dilip bhat</td>\n",
       "      <td>1</td>\n",
       "    </tr>\n",
       "    <tr>\n",
       "      <th>3</th>\n",
       "      <td>ril share price end flat tuesday even sensex ...</td>\n",
       "      <td>0</td>\n",
       "    </tr>\n",
       "    <tr>\n",
       "      <th>4</th>\n",
       "      <td>india reliance industry plan 10 billion clean...</td>\n",
       "      <td>1</td>\n",
       "    </tr>\n",
       "  </tbody>\n",
       "</table>\n",
       "</div>"
      ],
      "text/plain": [
       "                                               Final  sentiment\n",
       "0   reliance industry o2c new energy biz may valu...          1\n",
       "1                   ril parameter rose 158% one year          0\n",
       "2   ltâs best value play  expect reliance dilip bhat          1\n",
       "3   ril share price end flat tuesday even sensex ...          0\n",
       "4   india reliance industry plan 10 billion clean...          1"
      ]
     },
     "execution_count": 129,
     "metadata": {
      "tags": []
     },
     "output_type": "execute_result"
    }
   ],
   "source": [
    "df.head()"
   ]
  },
  {
   "cell_type": "code",
   "execution_count": null,
   "metadata": {
    "id": "V88mTDVsei6C"
   },
   "outputs": [],
   "source": [
    "import transformers\n",
    "from transformers import BertModel, BertTokenizer, AdamW, get_linear_schedule_with_warmup\n",
    "import torch\n",
    "import numpy as np\n",
    "import pandas as pd\n",
    "import seaborn as sns\n",
    "from pylab import rcParams\n",
    "import matplotlib.pyplot as plt\n",
    "from matplotlib import rc\n",
    "from sklearn.model_selection import train_test_split\n",
    "from sklearn.metrics import confusion_matrix, classification_report\n",
    "from collections import defaultdict\n",
    "from textwrap import wrap\n",
    "from torch import nn, optim\n",
    "from torch.utils.data import Dataset, DataLoader\n",
    "%matplotlib inline"
   ]
  },
  {
   "cell_type": "code",
   "execution_count": null,
   "metadata": {
    "colab": {
     "base_uri": "https://localhost:8080/",
     "height": 279
    },
    "id": "w6jL_bVRe5Nt",
    "outputId": "170ec225-69cd-4bb8-de0f-16bd8c5852c2"
   },
   "outputs": [
    {
     "data": {
      "image/png": "[encoded data removed]",
      "text/plain": [
       "<Figure size 432x288 with 1 Axes>"
      ]
     },
     "metadata": {
      "needs_background": "light",
      "tags": []
     },
     "output_type": "display_data"
    }
   ],
   "source": [
    "class_names = ['negative','positive']\n",
    "ax = sns.countplot(df.sentiment)\n",
    "plt.xlabel('review sentiment')\n",
    "ax.set_xticklabels(class_names);"
   ]
  },
  {
   "cell_type": "code",
   "execution_count": null,
   "metadata": {
    "id": "03DTKfkSfBUV"
   },
   "outputs": [],
   "source": [
    "PRE_TRAINED_MODEL_NAME = 'bert-base-cased'\n",
    "tokenizer = BertTokenizer.from_pretrained(PRE_TRAINED_MODEL_NAME)"
   ]
  },
  {
   "cell_type": "code",
   "execution_count": null,
   "metadata": {
    "colab": {
     "base_uri": "https://localhost:8080/"
    },
    "id": "6qDKTfCwfMxn",
    "outputId": "ebf9b7bf-3551-4d21-8f02-609da4785757"
   },
   "outputs": [
    {
     "name": "stdout",
     "output_type": "stream",
     "text": [
      " Sentence: When was I last outside? I am stuck at home for 2 weeks.\n",
      "   Tokens: ['When', 'was', 'I', 'last', 'outside', '?', 'I', 'am', 'stuck', 'at', 'home', 'for', '2', 'weeks', '.']\n",
      "Token IDs: [1332, 1108, 146, 1314, 1796, 136, 146, 1821, 5342, 1120, 1313, 1111, 123, 2277, 119]\n"
     ]
    }
   ],
   "source": [
    "sample_txt = 'When was I last outside? I am stuck at home for 2 weeks.'\n",
    "tokens = tokenizer.tokenize(sample_txt)\n",
    "token_ids = tokenizer.convert_tokens_to_ids(tokens)\n",
    "print(f' Sentence: {sample_txt}')\n",
    "print(f'   Tokens: {tokens}')\n",
    "print(f'Token IDs: {token_ids}')"
   ]
  },
  {
   "cell_type": "code",
   "execution_count": null,
   "metadata": {
    "colab": {
     "base_uri": "https://localhost:8080/"
    },
    "id": "KCBEM5GAfbVE",
    "outputId": "062192ef-03e0-4ebe-d870-2c078b3a293a"
   },
   "outputs": [
    {
     "data": {
      "text/plain": [
       "('[SEP]', 102)"
      ]
     },
     "execution_count": 39,
     "metadata": {
      "tags": []
     },
     "output_type": "execute_result"
    }
   ],
   "source": [
    "tokenizer.sep_token, tokenizer.sep_token_id"
   ]
  },
  {
   "cell_type": "code",
   "execution_count": null,
   "metadata": {
    "colab": {
     "base_uri": "https://localhost:8080/"
    },
    "id": "fcEZUERuf1PR",
    "outputId": "9f214418-54ed-4573-80a5-8ef3515124d1"
   },
   "outputs": [
    {
     "data": {
      "text/plain": [
       "('[CLS]', 101)"
      ]
     },
     "execution_count": 40,
     "metadata": {
      "tags": []
     },
     "output_type": "execute_result"
    }
   ],
   "source": [
    "tokenizer.cls_token, tokenizer.cls_token_id"
   ]
  },
  {
   "cell_type": "code",
   "execution_count": null,
   "metadata": {
    "colab": {
     "base_uri": "https://localhost:8080/"
    },
    "id": "cHnor7Hpf35k",
    "outputId": "af1761fa-36a6-4e96-e2d3-1e98856512fa"
   },
   "outputs": [
    {
     "data": {
      "text/plain": [
       "('[PAD]', 0)"
      ]
     },
     "execution_count": 41,
     "metadata": {
      "tags": []
     },
     "output_type": "execute_result"
    }
   ],
   "source": [
    "tokenizer.pad_token, tokenizer.pad_token_id"
   ]
  },
  {
   "cell_type": "code",
   "execution_count": null,
   "metadata": {
    "colab": {
     "base_uri": "https://localhost:8080/"
    },
    "id": "YmkfTNYGf6jo",
    "outputId": "946b8783-7ad5-4c6f-d01d-9e1e703ba17e"
   },
   "outputs": [
    {
     "data": {
      "text/plain": [
       "('[UNK]', 100)"
      ]
     },
     "execution_count": 42,
     "metadata": {
      "tags": []
     },
     "output_type": "execute_result"
    }
   ],
   "source": [
    "tokenizer.unk_token, tokenizer.unk_token_id"
   ]
  },
  {
   "cell_type": "code",
   "execution_count": null,
   "metadata": {
    "colab": {
     "base_uri": "https://localhost:8080/"
    },
    "id": "oVKh3xl8gPAS",
    "outputId": "e6897fdd-d3e6-4f57-de75-18d2c7170e71"
   },
   "outputs": [
    {
     "name": "stderr",
     "output_type": "stream",
     "text": [
      "Truncation was not explicitly activated but `max_length` is provided a specific value, please use `truncation=True` to explicitly truncate examples to max length. Defaulting to 'longest_first' truncation strategy. If you encode pairs of sequences (GLUE-style) with the tokenizer you can select this strategy more precisely by providing a specific strategy to `truncation`.\n"
     ]
    }
   ],
   "source": [
    "token_lens = []\n",
    "for txt in df.Final:\n",
    "  tokens = tokenizer.encode(txt, max_length=512)\n",
    "  token_lens.append(len(tokens))"
   ]
  },
  {
   "cell_type": "code",
   "execution_count": null,
   "metadata": {
    "colab": {
     "base_uri": "https://localhost:8080/",
     "height": 279
    },
    "id": "o48J4cNvgbep",
    "outputId": "ff33edaa-9c4f-401a-c910-d2bf65cf19ff"
   },
   "outputs": [
    {
     "data": {
      "image/png": "[encoded data removed]",
      "text/plain": [
       "<Figure size 432x288 with 1 Axes>"
      ]
     },
     "metadata": {
      "needs_background": "light",
      "tags": []
     },
     "output_type": "display_data"
    }
   ],
   "source": [
    "sns.distplot(token_lens)\n",
    "plt.xlim([0, 256]);\n",
    "plt.xlabel('Token count');"
   ]
  },
  {
   "cell_type": "code",
   "execution_count": null,
   "metadata": {
    "id": "Jwt1ceTkgmWR"
   },
   "outputs": [],
   "source": [
    "MAX_LEN = 50"
   ]
  },
  {
   "cell_type": "code",
   "execution_count": null,
   "metadata": {
    "id": "ZLSiJ_DEgzpu"
   },
   "outputs": [],
   "source": [
    "class GPReviewDataset(Dataset):\n",
    "  def __init__(self, reviews, targets, tokenizer, max_len):\n",
    "    self.reviews = reviews\n",
    "    self.targets = targets\n",
    "    self.tokenizer = tokenizer\n",
    "    self.max_len = max_len\n",
    "  def __len__(self):\n",
    "    return len(self.reviews)\n",
    "  def __getitem__(self, item):\n",
    "    review = str(self.reviews[item])\n",
    "    target = self.targets[item]\n",
    "    encoding = self.tokenizer.encode_plus(\n",
    "      review,\n",
    "      add_special_tokens=True,\n",
    "      max_length=self.max_len,\n",
    "      return_token_type_ids=False,\n",
    "      pad_to_max_length=True,\n",
    "      return_attention_mask=True,\n",
    "      return_tensors='pt',\n",
    "    )\n",
    "    return {\n",
    "      'review_text': review,\n",
    "      'input_ids': encoding['input_ids'].flatten(),\n",
    "      'attention_mask': encoding['attention_mask'].flatten(),\n",
    "      'targets': torch.tensor(target, dtype=torch.long)\n",
    "    }"
   ]
  },
  {
   "cell_type": "code",
   "execution_count": null,
   "metadata": {
    "id": "fwnF0kvNg0WE"
   },
   "outputs": [],
   "source": [
    "df_train, df_test = train_test_split(\n",
    "  df,\n",
    "  test_size=0.1,\n",
    "  random_state=42\n",
    ")\n",
    "df_val, df_test = train_test_split(\n",
    "  df_test,\n",
    "  test_size=0.6,\n",
    "  random_state=42\n",
    ")"
   ]
  },
  {
   "cell_type": "code",
   "execution_count": null,
   "metadata": {
    "colab": {
     "base_uri": "https://localhost:8080/"
    },
    "id": "JHi-4kDihEhK",
    "outputId": "a9856d6d-3c3f-40ed-fa17-563b5e3057c7"
   },
   "outputs": [
    {
     "data": {
      "text/plain": [
       "((90, 2), (4, 2), (6, 2))"
      ]
     },
     "execution_count": 139,
     "metadata": {
      "tags": []
     },
     "output_type": "execute_result"
    }
   ],
   "source": [
    "df_train.shape, df_val.shape, df_test.shape"
   ]
  },
  {
   "cell_type": "code",
   "execution_count": null,
   "metadata": {
    "id": "FDDibIDdhHgG"
   },
   "outputs": [],
   "source": [
    "def create_data_loader(df, tokenizer, max_len, batch_size):\n",
    "  ds = GPReviewDataset(\n",
    "    reviews=df.Final.to_numpy(),\n",
    "    targets=df.sentiment.to_numpy(),\n",
    "    tokenizer=tokenizer,\n",
    "    max_len=max_len\n",
    "  )\n",
    "  return DataLoader(\n",
    "    ds,\n",
    "    batch_size=batch_size,\n",
    "    num_workers=4\n",
    "  )"
   ]
  },
  {
   "cell_type": "code",
   "execution_count": null,
   "metadata": {
    "id": "riGsd_vXhP3t"
   },
   "outputs": [],
   "source": [
    "BATCH_SIZE = 16\n",
    "train_data_loader = create_data_loader(df_train, tokenizer, MAX_LEN, BATCH_SIZE)\n",
    "val_data_loader = create_data_loader(df_val, tokenizer, MAX_LEN, BATCH_SIZE)\n",
    "test_data_loader = create_data_loader(df_test, tokenizer, MAX_LEN, BATCH_SIZE)"
   ]
  },
  {
   "cell_type": "code",
   "execution_count": null,
   "metadata": {
    "colab": {
     "base_uri": "https://localhost:8080/"
    },
    "id": "cf5AUlt9hUas",
    "outputId": "1495f115-d497-4aac-bb65-3295d7069250"
   },
   "outputs": [
    {
     "data": {
      "text/plain": [
       "dict_keys(['review_text', 'input_ids', 'attention_mask', 'targets'])"
      ]
     },
     "execution_count": 142,
     "metadata": {
      "tags": []
     },
     "output_type": "execute_result"
    }
   ],
   "source": [
    "data = next(iter(train_data_loader))\n",
    "data.keys()"
   ]
  },
  {
   "cell_type": "code",
   "execution_count": null,
   "metadata": {
    "colab": {
     "base_uri": "https://localhost:8080/"
    },
    "id": "8FMIVwsqhf72",
    "outputId": "4ef67ef4-b27c-4541-e56f-6645459510d7"
   },
   "outputs": [
    {
     "name": "stdout",
     "output_type": "stream",
     "text": [
      "torch.Size([16, 50])\n",
      "torch.Size([16, 50])\n",
      "torch.Size([16])\n"
     ]
    }
   ],
   "source": [
    "print(data['input_ids'].shape)\n",
    "print(data['attention_mask'].shape)\n",
    "print(data['targets'].shape)"
   ]
  },
  {
   "cell_type": "code",
   "execution_count": null,
   "metadata": {
    "colab": {
     "base_uri": "https://localhost:8080/"
    },
    "id": "n83RfZ3Ph8jx",
    "outputId": "ef6c20a5-7b16-4279-d22a-7179b18f370b"
   },
   "outputs": [
    {
     "name": "stderr",
     "output_type": "stream",
     "text": [
      "Some weights of the model checkpoint at bert-base-cased were not used when initializing BertModel: ['cls.seq_relationship.weight', 'cls.predictions.transform.dense.bias', 'cls.predictions.transform.dense.weight', 'cls.predictions.bias', 'cls.predictions.transform.LayerNorm.bias', 'cls.predictions.transform.LayerNorm.weight', 'cls.predictions.decoder.weight', 'cls.seq_relationship.bias']\n",
      "- This IS expected if you are initializing BertModel from the checkpoint of a model trained on another task or with another architecture (e.g. initializing a BertForSequenceClassification model from a BertForPreTraining model).\n",
      "- This IS NOT expected if you are initializing BertModel from the checkpoint of a model that you expect to be exactly identical (initializing a BertForSequenceClassification model from a BertForSequenceClassification model).\n"
     ]
    }
   ],
   "source": [
    "bert_model = BertModel.from_pretrained(PRE_TRAINED_MODEL_NAME)"
   ]
  },
  {
   "cell_type": "code",
   "execution_count": null,
   "metadata": {
    "id": "1UWiWDDWiZkV"
   },
   "outputs": [],
   "source": [
    "class SentimentClassifier(nn.Module):\n",
    "  def __init__(self, n_classes):\n",
    "    super(SentimentClassifier, self).__init__()\n",
    "    self.bert = BertModel.from_pretrained(PRE_TRAINED_MODEL_NAME,return_dict=False)\n",
    "    self.drop = nn.Dropout(p=0.3)\n",
    "    self.out = nn.Linear(self.bert.config.hidden_size, n_classes)\n",
    "  def forward(self, input_ids, attention_mask):\n",
    "    _, pooled_output = self.bert(\n",
    "      input_ids=input_ids,\n",
    "      attention_mask=attention_mask\n",
    "    )\n",
    "    output = self.drop(pooled_output)\n",
    "    return self.out(output)"
   ]
  },
  {
   "cell_type": "code",
   "execution_count": null,
   "metadata": {
    "id": "tWx7BKGpis1m"
   },
   "outputs": [],
   "source": [
    "device = torch.device(\"cuda:0\" if torch.cuda.is_available() else \"cpu\")"
   ]
  },
  {
   "cell_type": "code",
   "execution_count": null,
   "metadata": {
    "colab": {
     "base_uri": "https://localhost:8080/"
    },
    "id": "td3Pbcxki2WM",
    "outputId": "a508e9a9-8a87-4075-dcf8-b2e1e4bf5dcd"
   },
   "outputs": [
    {
     "name": "stderr",
     "output_type": "stream",
     "text": [
      "Some weights of the model checkpoint at bert-base-cased were not used when initializing BertModel: ['cls.seq_relationship.weight', 'cls.predictions.transform.dense.bias', 'cls.predictions.transform.dense.weight', 'cls.predictions.bias', 'cls.predictions.transform.LayerNorm.bias', 'cls.predictions.transform.LayerNorm.weight', 'cls.predictions.decoder.weight', 'cls.seq_relationship.bias']\n",
      "- This IS expected if you are initializing BertModel from the checkpoint of a model trained on another task or with another architecture (e.g. initializing a BertForSequenceClassification model from a BertForPreTraining model).\n",
      "- This IS NOT expected if you are initializing BertModel from the checkpoint of a model that you expect to be exactly identical (initializing a BertForSequenceClassification model from a BertForSequenceClassification model).\n"
     ]
    }
   ],
   "source": [
    "model = SentimentClassifier(len(class_names))\n",
    "model = model.to(device)"
   ]
  },
  {
   "cell_type": "code",
   "execution_count": null,
   "metadata": {
    "colab": {
     "base_uri": "https://localhost:8080/"
    },
    "id": "oIBIclTMi7KE",
    "outputId": "bee7be95-84f0-454d-e257-459deaf86056"
   },
   "outputs": [
    {
     "name": "stdout",
     "output_type": "stream",
     "text": [
      "torch.Size([16, 50])\n",
      "torch.Size([16, 50])\n"
     ]
    }
   ],
   "source": [
    "input_ids = data['input_ids'].to(device)\n",
    "attention_mask = data['attention_mask'].to(device)\n",
    "print(input_ids.shape) # batch size x seq length\n",
    "print(attention_mask.shape)"
   ]
  },
  {
   "cell_type": "code",
   "execution_count": null,
   "metadata": {
    "id": "DjJ9jwykjDkd"
   },
   "outputs": [],
   "source": [
    "EPOCHS = 10\n",
    "optimizer = AdamW(model.parameters(), lr=2e-5, correct_bias=False)\n",
    "total_steps = len(train_data_loader) * EPOCHS\n",
    "scheduler = get_linear_schedule_with_warmup(\n",
    "  optimizer,\n",
    "  num_warmup_steps=0,\n",
    "  num_training_steps=total_steps\n",
    ")\n",
    "loss_fn = nn.CrossEntropyLoss().to(device)"
   ]
  },
  {
   "cell_type": "code",
   "execution_count": null,
   "metadata": {
    "id": "Q7pHAr69jTxu"
   },
   "outputs": [],
   "source": [
    "def train_epoch(\n",
    "  model,\n",
    "  data_loader,\n",
    "  loss_fn,\n",
    "  optimizer,\n",
    "  device,\n",
    "  scheduler,\n",
    "  n_examples\n",
    "):\n",
    "  model = model.train()\n",
    "  losses = []\n",
    "  correct_predictions = 0\n",
    "  for d in data_loader:\n",
    "    input_ids = d[\"input_ids\"].to(device)\n",
    "    attention_mask = d[\"attention_mask\"].to(device)\n",
    "    targets = d[\"targets\"].to(device)\n",
    "    outputs = model(\n",
    "      input_ids=input_ids,\n",
    "      attention_mask=attention_mask,\n",
    "    )\n",
    "    _, preds = torch.max(outputs, dim=1)\n",
    "    loss = loss_fn(outputs, targets)\n",
    "    correct_predictions += torch.sum(preds == targets)\n",
    "    losses.append(loss.item())\n",
    "    loss.backward()\n",
    "    nn.utils.clip_grad_norm_(model.parameters(), max_norm=1.0)\n",
    "    optimizer.step()\n",
    "    scheduler.step()\n",
    "    optimizer.zero_grad()\n",
    "  return correct_predictions.double() / n_examples, np.mean(losses)"
   ]
  },
  {
   "cell_type": "code",
   "execution_count": null,
   "metadata": {
    "id": "TFNyCBTDjav0"
   },
   "outputs": [],
   "source": [
    "def eval_model(model, data_loader, loss_fn, device, n_examples):\n",
    "  model = model.eval()\n",
    "  losses = []\n",
    "  correct_predictions = 0\n",
    "  with torch.no_grad():\n",
    "    for d in data_loader:\n",
    "      input_ids = d[\"input_ids\"].to(device)\n",
    "      attention_mask = d[\"attention_mask\"].to(device)\n",
    "      targets = d[\"targets\"].to(device)\n",
    "      outputs = model(\n",
    "        input_ids=input_ids,\n",
    "        attention_mask=attention_mask,\n",
    "      )\n",
    "      _, preds = torch.max(outputs, dim=1)\n",
    "      loss = loss_fn(outputs, targets)\n",
    "      correct_predictions += torch.sum(preds == targets)\n",
    "      losses.append(loss.item())\n",
    "  return correct_predictions.double() / n_examples, np.mean(losses)"
   ]
  },
  {
   "cell_type": "code",
   "execution_count": null,
   "metadata": {
    "colab": {
     "base_uri": "https://localhost:8080/"
    },
    "id": "h5-YqKKxjepp",
    "outputId": "b2417126-87ee-4501-82e5-60261dfaed7f"
   },
   "outputs": [
    {
     "name": "stdout",
     "output_type": "stream",
     "text": [
      "Epoch 1/10\n",
      "----------\n",
      "Train loss 0.6381065845489502 accuracy 0.7\n",
      "Val   loss 0.39006248116493225 accuracy 1.0\n",
      "\n",
      "Epoch 2/10\n",
      "----------\n",
      "Train loss 0.5327882568041483 accuracy 0.7111111111111111\n",
      "Val   loss 0.2517926096916199 accuracy 1.0\n",
      "\n",
      "Epoch 3/10\n",
      "----------\n",
      "Train loss 0.2818979447086652 accuracy 0.8444444444444444\n",
      "Val   loss 0.9780745506286621 accuracy 0.25\n",
      "\n",
      "Epoch 4/10\n",
      "----------\n",
      "Train loss 0.08565814731021722 accuracy 0.9777777777777777\n",
      "Val   loss 1.0823290348052979 accuracy 0.75\n",
      "\n",
      "Epoch 5/10\n",
      "----------\n",
      "Train loss 0.018922224640846252 accuracy 0.9888888888888889\n",
      "Val   loss 1.434558629989624 accuracy 0.75\n",
      "\n",
      "Epoch 6/10\n",
      "----------\n",
      "Train loss 0.006251301946273695 accuracy 1.0\n",
      "Val   loss 1.7958024740219116 accuracy 0.75\n",
      "\n",
      "Epoch 7/10\n",
      "----------\n",
      "Train loss 0.0011716550313091527 accuracy 1.0\n",
      "Val   loss 1.9437735080718994 accuracy 0.75\n",
      "\n",
      "Epoch 8/10\n",
      "----------\n",
      "Train loss 0.001073266234016046 accuracy 1.0\n",
      "Val   loss 2.0072922706604004 accuracy 0.75\n",
      "\n",
      "Epoch 9/10\n",
      "----------\n",
      "Train loss 0.0007872254742930332 accuracy 1.0\n",
      "Val   loss 2.0389392375946045 accuracy 0.75\n",
      "\n",
      "Epoch 10/10\n",
      "----------\n",
      "Train loss 0.0007827174946820984 accuracy 1.0\n",
      "Val   loss 2.04909086227417 accuracy 0.75\n",
      "\n",
      "CPU times: user 8min 24s, sys: 1min 14s, total: 9min 39s\n",
      "Wall time: 9min 44s\n"
     ]
    }
   ],
   "source": [
    "%%time\n",
    "history = defaultdict(list)\n",
    "best_accuracy = 0\n",
    "for epoch in range(EPOCHS):\n",
    "  print(f'Epoch {epoch + 1}/{EPOCHS}')\n",
    "  print('-' * 10)\n",
    "  train_acc, train_loss = train_epoch(\n",
    "    model,\n",
    "    train_data_loader,\n",
    "    loss_fn,\n",
    "    optimizer,\n",
    "    device,\n",
    "    scheduler,\n",
    "    len(df_train)\n",
    "  )\n",
    "  print(f'Train loss {train_loss} accuracy {train_acc}')\n",
    "  val_acc, val_loss = eval_model(\n",
    "    model,\n",
    "    val_data_loader,\n",
    "    loss_fn,\n",
    "    device,\n",
    "    len(df_val)\n",
    "  )\n",
    "  print(f'Val   loss {val_loss} accuracy {val_acc}')\n",
    "  print()\n",
    "  history['train_acc'].append(train_acc)\n",
    "  history['train_loss'].append(train_loss)\n",
    "  history['val_acc'].append(val_acc)\n",
    "  history['val_loss'].append(val_loss)\n",
    "  if val_acc > best_accuracy:\n",
    "    torch.save(model.state_dict(), 'best_model_state.bin')\n",
    "    best_accuracy = val_acc"
   ]
  },
  {
   "cell_type": "code",
   "execution_count": null,
   "metadata": {
    "colab": {
     "base_uri": "https://localhost:8080/",
     "height": 295
    },
    "id": "qdoPAJnyjo1i",
    "outputId": "74428e27-efaa-456f-8ca7-b4d584678e02"
   },
   "outputs": [
    {
     "data": {
      "image/png": "[encoded data removed]",
      "text/plain": [
       "<Figure size 432x288 with 1 Axes>"
      ]
     },
     "metadata": {
      "needs_background": "light",
      "tags": []
     },
     "output_type": "display_data"
    }
   ],
   "source": [
    "plt.plot(history['train_acc'], label='train accuracy')\n",
    "plt.plot(history['val_acc'], label='validation accuracy')\n",
    "plt.title('Training history')\n",
    "plt.ylabel('Accuracy')\n",
    "plt.xlabel('Epoch')\n",
    "plt.legend()\n",
    "plt.ylim([0, 1]);"
   ]
  },
  {
   "cell_type": "markdown",
   "metadata": {
    "id": "n4gw9AVwrkJC"
   },
   "source": [
    "Testing the model: Accuracy 80%"
   ]
  },
  {
   "cell_type": "code",
   "execution_count": null,
   "metadata": {
    "colab": {
     "base_uri": "https://localhost:8080/"
    },
    "id": "JjDLBb6507tU",
    "outputId": "af6026db-6e61-49f1-d5e0-2b1d33eb656a"
   },
   "outputs": [
    {
     "name": "stderr",
     "output_type": "stream",
     "text": [
      "/usr/local/lib/python3.7/dist-packages/torch/utils/data/dataloader.py:481: UserWarning: This DataLoader will create 4 worker processes in total. Our suggested max number of worker in current system is 2, which is smaller than what this DataLoader is going to create. Please be aware that excessive worker creation might get DataLoader running slow or even freeze, lower the worker number to avoid potential slowness/freeze if necessary.\n",
      "  cpuset_checked))\n",
      "/usr/local/lib/python3.7/dist-packages/transformers/tokenization_utils_base.py:2132: FutureWarning: The `pad_to_max_length` argument is deprecated and will be removed in a future version, use `padding=True` or `padding='longest'` to pad to the longest sequence in the batch, or use `padding='max_length'` to pad to a max length. In this case, you can give a specific length with `max_length` (e.g. `max_length=45`) or leave max_length to None to pad to the maximal input size of the model (e.g. 512 for Bert).\n",
      "  FutureWarning,\n"
     ]
    },
    {
     "data": {
      "text/plain": [
       "0.8"
      ]
     },
     "execution_count": 110,
     "metadata": {
      "tags": []
     },
     "output_type": "execute_result"
    }
   ],
   "source": [
    "test_acc, _ = eval_model(\n",
    "  model,\n",
    "  test_data_loader,\n",
    "  loss_fn,\n",
    "  device,\n",
    "  len(df_test)\n",
    ")\n",
    "test_acc.item()"
   ]
  },
  {
   "cell_type": "code",
   "execution_count": null,
   "metadata": {
    "id": "m5FPVbP71BL2"
   },
   "outputs": [],
   "source": [
    "def get_predictions(model, data_loader):\n",
    "  model = model.eval()\n",
    "  review_texts = []\n",
    "  predictions = []\n",
    "  prediction_probs = []\n",
    "  real_values = []\n",
    "  with torch.no_grad():\n",
    "    for d in data_loader:\n",
    "      texts = d[\"review_text\"]\n",
    "      input_ids = d[\"input_ids\"].to(device)\n",
    "      attention_mask = d[\"attention_mask\"].to(device)\n",
    "      targets = d[\"targets\"].to(device)\n",
    "      outputs = model(\n",
    "        input_ids=input_ids,\n",
    "        attention_mask=attention_mask\n",
    "      )\n",
    "      _, preds = torch.max(outputs, dim=1)\n",
    "      review_texts.extend(texts)\n",
    "      predictions.extend(preds)\n",
    "      prediction_probs.extend(outputs)\n",
    "      real_values.extend(targets)\n",
    "  predictions = torch.stack(predictions).cpu()\n",
    "  prediction_probs = torch.stack(prediction_probs).cpu()\n",
    "  real_values = torch.stack(real_values).cpu()\n",
    "  return review_texts, predictions, prediction_probs, real_values"
   ]
  },
  {
   "cell_type": "code",
   "execution_count": null,
   "metadata": {
    "id": "0VuSMuMu1KKG"
   },
   "outputs": [],
   "source": [
    "y_review_texts, y_pred, y_pred_probs, y_test = get_predictions(\n",
    "  model,\n",
    "  test_data_loader\n",
    ")"
   ]
  },
  {
   "cell_type": "code",
   "execution_count": null,
   "metadata": {
    "id": "Q32Ju5Xb1RCI"
   },
   "outputs": [],
   "source": [
    "idx = 3\n",
    "review_text = y_review_texts[idx]\n",
    "true_sentiment = y_test[idx]\n",
    "pred_df = pd.DataFrame({\n",
    "  'class_names': class_names,\n",
    "  'values': y_pred_probs[idx]\n",
    "})"
   ]
  },
  {
   "cell_type": "markdown",
   "metadata": {
    "id": "1wjOpp-NrZTN"
   },
   "source": [
    "Classification random data using our bert model"
   ]
  },
  {
   "cell_type": "code",
   "execution_count": null,
   "metadata": {
    "colab": {
     "base_uri": "https://localhost:8080/"
    },
    "id": "z_cDvfoI1gGG",
    "outputId": "7759099b-c322-48d4-d22a-cca373b9e857"
   },
   "outputs": [
    {
     "name": "stdout",
     "output_type": "stream",
     "text": [
      " stock watch reliance industry apollo hospital tata motor\n",
      "\n",
      "True sentiment: positive\n"
     ]
    }
   ],
   "source": [
    "print(\"\\n\".join(wrap(review_text)))\n",
    "print()\n",
    "print(f'True sentiment: {class_names[true_sentiment]}')"
   ]
  },
  {
   "cell_type": "markdown",
   "metadata": {
    "id": "uCWyRbXcrqAW"
   },
   "source": [
    "**2) ARIMA and LSTM Model for price prediction: LSTM Performs better than arima with a very less RMSE**"
   ]
  },
  {
   "cell_type": "code",
   "execution_count": null,
   "metadata": {
    "id": "XrS3rLfgF1mj"
   },
   "outputs": [],
   "source": [
    "import numpy as np \n",
    "import pandas as pd\n",
    "import lightgbm as lgb\n",
    "from numpy.random import normal, seed\n",
    "import math\n",
    "from sklearn.metrics import mean_squared_error\n",
    "\n",
    "from pandas.plotting import autocorrelation_plot\n",
    "import matplotlib.pyplot as plt\n",
    "%matplotlib inline\n",
    "plt.style.use('ggplot')\n",
    "from matplotlib import pyplot\n",
    "from pylab import rcParams\n",
    "from plotly import tools\n",
    "import plotly.graph_objs as go\n",
    "import plotly.figure_factory as ff\n",
    "import seaborn as sns\n",
    "\n",
    "import statsmodels.api as sm\n",
    "from statsmodels.tsa.arima_model import ARMA\n",
    "from statsmodels.tsa.stattools import adfuller\n",
    "from statsmodels.graphics.tsaplots import plot_acf, plot_pacf\n",
    "from statsmodels.tsa.arima_process import ArmaProcess\n",
    "from statsmodels.tsa.arima_model import ARIMA\n",
    "from statsmodels.distributions.empirical_distribution import ECDF\n",
    "from statsmodels.tsa.seasonal import seasonal_decompose\n",
    "from statsmodels.graphics.tsaplots import plot_acf, plot_pacf\n",
    "\n",
    "from scipy.stats import norm\n",
    "import scipy.stats as scs\n",
    "\n",
    "from fbprophet import Prophet"
   ]
  },
  {
   "cell_type": "code",
   "execution_count": null,
   "metadata": {
    "colab": {
     "base_uri": "https://localhost:8080/",
     "height": 334
    },
    "id": "-WTd_LBhGYmQ",
    "outputId": "5ecc8f6d-96b6-4959-84d5-0bd021994139"
   },
   "outputs": [
    {
     "data": {
      "text/html": [
       "<div>\n",
       "<style scoped>\n",
       "    .dataframe tbody tr th:only-of-type {\n",
       "        vertical-align: middle;\n",
       "    }\n",
       "\n",
       "    .dataframe tbody tr th {\n",
       "        vertical-align: top;\n",
       "    }\n",
       "\n",
       "    .dataframe thead th {\n",
       "        text-align: right;\n",
       "    }\n",
       "</style>\n",
       "<table border=\"1\" class=\"dataframe\">\n",
       "  <thead>\n",
       "    <tr style=\"text-align: right;\">\n",
       "      <th></th>\n",
       "      <th>Symbol</th>\n",
       "      <th>Series</th>\n",
       "      <th>Prev Close</th>\n",
       "      <th>Open</th>\n",
       "      <th>High</th>\n",
       "      <th>Low</th>\n",
       "      <th>Last</th>\n",
       "      <th>Close</th>\n",
       "      <th>VWAP</th>\n",
       "      <th>Volume</th>\n",
       "      <th>Turnover</th>\n",
       "      <th>Trades</th>\n",
       "      <th>Deliverable Volume</th>\n",
       "      <th>%Deliverble</th>\n",
       "    </tr>\n",
       "    <tr>\n",
       "      <th>Date</th>\n",
       "      <th></th>\n",
       "      <th></th>\n",
       "      <th></th>\n",
       "      <th></th>\n",
       "      <th></th>\n",
       "      <th></th>\n",
       "      <th></th>\n",
       "      <th></th>\n",
       "      <th></th>\n",
       "      <th></th>\n",
       "      <th></th>\n",
       "      <th></th>\n",
       "      <th></th>\n",
       "      <th></th>\n",
       "    </tr>\n",
       "  </thead>\n",
       "  <tbody>\n",
       "    <tr>\n",
       "      <th>2003-07-09</th>\n",
       "      <td>MARUTI</td>\n",
       "      <td>EQ</td>\n",
       "      <td>125.00</td>\n",
       "      <td>164.90</td>\n",
       "      <td>170.40</td>\n",
       "      <td>155.00</td>\n",
       "      <td>164.0</td>\n",
       "      <td>164.30</td>\n",
       "      <td>165.95</td>\n",
       "      <td>35164283</td>\n",
       "      <td>5.835528e+14</td>\n",
       "      <td>NaN</td>\n",
       "      <td>8537695.0</td>\n",
       "      <td>0.2428</td>\n",
       "    </tr>\n",
       "    <tr>\n",
       "      <th>2003-07-10</th>\n",
       "      <td>MARUTI</td>\n",
       "      <td>EQ</td>\n",
       "      <td>164.30</td>\n",
       "      <td>167.00</td>\n",
       "      <td>168.70</td>\n",
       "      <td>164.50</td>\n",
       "      <td>167.0</td>\n",
       "      <td>167.00</td>\n",
       "      <td>166.74</td>\n",
       "      <td>10464179</td>\n",
       "      <td>1.744820e+14</td>\n",
       "      <td>NaN</td>\n",
       "      <td>4363947.0</td>\n",
       "      <td>0.4170</td>\n",
       "    </tr>\n",
       "    <tr>\n",
       "      <th>2003-07-11</th>\n",
       "      <td>MARUTI</td>\n",
       "      <td>EQ</td>\n",
       "      <td>167.00</td>\n",
       "      <td>167.75</td>\n",
       "      <td>174.85</td>\n",
       "      <td>166.25</td>\n",
       "      <td>173.6</td>\n",
       "      <td>173.35</td>\n",
       "      <td>172.45</td>\n",
       "      <td>11740117</td>\n",
       "      <td>2.024622e+14</td>\n",
       "      <td>NaN</td>\n",
       "      <td>3014852.0</td>\n",
       "      <td>0.2568</td>\n",
       "    </tr>\n",
       "    <tr>\n",
       "      <th>2003-07-14</th>\n",
       "      <td>MARUTI</td>\n",
       "      <td>EQ</td>\n",
       "      <td>173.35</td>\n",
       "      <td>174.25</td>\n",
       "      <td>179.25</td>\n",
       "      <td>174.25</td>\n",
       "      <td>178.6</td>\n",
       "      <td>177.95</td>\n",
       "      <td>177.91</td>\n",
       "      <td>5982324</td>\n",
       "      <td>1.064313e+14</td>\n",
       "      <td>NaN</td>\n",
       "      <td>1949217.0</td>\n",
       "      <td>0.3258</td>\n",
       "    </tr>\n",
       "    <tr>\n",
       "      <th>2003-07-15</th>\n",
       "      <td>MARUTI</td>\n",
       "      <td>EQ</td>\n",
       "      <td>177.95</td>\n",
       "      <td>200.00</td>\n",
       "      <td>200.00</td>\n",
       "      <td>173.00</td>\n",
       "      <td>176.3</td>\n",
       "      <td>176.20</td>\n",
       "      <td>176.88</td>\n",
       "      <td>6173689</td>\n",
       "      <td>1.092001e+14</td>\n",
       "      <td>NaN</td>\n",
       "      <td>1307694.0</td>\n",
       "      <td>0.2118</td>\n",
       "    </tr>\n",
       "  </tbody>\n",
       "</table>\n",
       "</div>"
      ],
      "text/plain": [
       "            Symbol Series  Prev Close  ...  Trades  Deliverable Volume  %Deliverble\n",
       "Date                                   ...                                         \n",
       "2003-07-09  MARUTI     EQ      125.00  ...     NaN           8537695.0       0.2428\n",
       "2003-07-10  MARUTI     EQ      164.30  ...     NaN           4363947.0       0.4170\n",
       "2003-07-11  MARUTI     EQ      167.00  ...     NaN           3014852.0       0.2568\n",
       "2003-07-14  MARUTI     EQ      173.35  ...     NaN           1949217.0       0.3258\n",
       "2003-07-15  MARUTI     EQ      177.95  ...     NaN           1307694.0       0.2118\n",
       "\n",
       "[5 rows x 14 columns]"
      ]
     },
     "execution_count": 2,
     "metadata": {
      "tags": []
     },
     "output_type": "execute_result"
    }
   ],
   "source": [
    "df = pd.read_csv(\"MARUTI.csv\", parse_dates=[\"Date\"],index_col=\"Date\")\n",
    "df.head()"
   ]
  },
  {
   "cell_type": "markdown",
   "metadata": {
    "id": "CTe_qjXes6RT"
   },
   "source": [
    "Volume Weighted Average Price,the target variable to predict. VWAP is a trading benchmark used by traders that gives the average price the stock has traded at throughout the day, based on both volume and price."
   ]
  },
  {
   "cell_type": "code",
   "execution_count": null,
   "metadata": {
    "colab": {
     "base_uri": "https://localhost:8080/"
    },
    "id": "yjUSCt5uHVAb",
    "outputId": "6904b15d-3ad2-425c-d2b1-c5615f2b8dd9"
   },
   "outputs": [
    {
     "name": "stdout",
     "output_type": "stream",
     "text": [
      "Percentage of missing trade values = 44.52\n",
      "Percentage of missing Deliverable Volume values = 0.02\n",
      "Percentage of missing %Deliverble values = 0.02\n"
     ]
    }
   ],
   "source": [
    "print(\"Percentage of missing trade values = {:.2f}\".format(100*(df['Trades'].isna().sum())/df.shape[0]))\n",
    "print(\"Percentage of missing Deliverable Volume values = {:.2f}\".format(100*(df['Deliverable Volume'].isna().sum())/df.shape[0]))\n",
    "print(\"Percentage of missing %Deliverble values = {:.2f}\".format(100*(df['%Deliverble'].isna().sum())/df.shape[0]))"
   ]
  },
  {
   "cell_type": "code",
   "execution_count": null,
   "metadata": {
    "id": "Jf3PwNs8HbQ2"
   },
   "outputs": [],
   "source": [
    "df = df[df['Deliverable Volume'] >0]"
   ]
  },
  {
   "cell_type": "code",
   "execution_count": null,
   "metadata": {
    "id": "5RosYWcFHkZv"
   },
   "outputs": [],
   "source": [
    "df['Trades'].ffill(axis = 0) \n",
    "trade_data = df.loc[df.index<='2021']\n",
    "mean = round(trade_data['Trades'].mean(),1)\n",
    "df[\"Trades\"].fillna(value = mean,inplace = True)"
   ]
  },
  {
   "cell_type": "code",
   "execution_count": null,
   "metadata": {
    "colab": {
     "base_uri": "https://localhost:8080/",
     "height": 378
    },
    "id": "1v3p1UbcIa66",
    "outputId": "56c6a9c7-9679-4b6f-c638-158b56ac74c3"
   },
   "outputs": [
    {
     "data": {
      "image/png": "[encoded data removed]",
      "text/plain": [
       "<Figure size 1440x432 with 1 Axes>"
      ]
     },
     "metadata": {
      "needs_background": "light",
      "tags": []
     },
     "output_type": "display_data"
    }
   ],
   "source": [
    "ax = df[['VWAP']].plot(figsize=(20, 6))\n",
    "ax.set_title('VWAP', fontsize=24);"
   ]
  },
  {
   "cell_type": "code",
   "execution_count": null,
   "metadata": {
    "colab": {
     "base_uri": "https://localhost:8080/",
     "height": 557
    },
    "id": "aVw4_n7BIstY",
    "outputId": "e5abb2f2-34c5-4b1f-9283-7f0097b19711"
   },
   "outputs": [
    {
     "name": "stdout",
     "output_type": "stream",
     "text": [
      "Lambda: -0.049789\n"
     ]
    },
    {
     "data": {
      "image/png": "[encoded data removed]",
      "text/plain": [
       "<Figure size 792x648 with 2 Axes>"
      ]
     },
     "metadata": {
      "needs_background": "light",
      "tags": []
     },
     "output_type": "display_data"
    }
   ],
   "source": [
    "from scipy.stats import boxcox\n",
    "df['vwap_boxcox'],lam = boxcox(df['VWAP'])\n",
    "print('Lambda: %f' % lam)\n",
    "rcParams['figure.figsize'] = 11, 9\n",
    "pyplot.figure(1)\n",
    "# line plot\n",
    "pyplot.subplot(211)\n",
    "pyplot.plot(df['vwap_boxcox'])\n",
    "# histogram\n",
    "pyplot.subplot(212)\n",
    "pyplot.hist(df['vwap_boxcox'])\n",
    "pyplot.show()"
   ]
  },
  {
   "cell_type": "code",
   "execution_count": null,
   "metadata": {
    "colab": {
     "base_uri": "https://localhost:8080/",
     "height": 534
    },
    "id": "CZhkIlv-IxGS",
    "outputId": "3e443d44-2719-42f6-9474-5a5eb95a13d8"
   },
   "outputs": [
    {
     "data": {
      "image/png": "[encoded data removed]",
      "text/plain": [
       "<Figure size 792x648 with 1 Axes>"
      ]
     },
     "metadata": {
      "needs_background": "light",
      "tags": []
     },
     "output_type": "display_data"
    }
   ],
   "source": [
    "rolling_vwap = df['VWAP'].rolling(window=7)\n",
    "df['VWAP_rolled'] = rolling_vwap.mean()\n",
    "df['VWAP'].plot() \n",
    "df['VWAP_rolled'].plot(color='blue')\n",
    "plt.title('Lag in VWAP Annual')\n",
    "plt.legend(fontsize=15)\n",
    "pyplot.show()"
   ]
  },
  {
   "cell_type": "code",
   "execution_count": null,
   "metadata": {
    "colab": {
     "base_uri": "https://localhost:8080/"
    },
    "id": "r-BfNjvnI9NU",
    "outputId": "3cf9b222-06da-41ed-dcbb-f77e01741323"
   },
   "outputs": [
    {
     "name": "stdout",
     "output_type": "stream",
     "text": [
      "ADF Statistic: -0.783963\n",
      "p-value: 0.823787\n",
      "Critical Values:\n",
      "\t1%: -3.432\n",
      "\t5%: -2.862\n",
      "\t10%: -2.567\n"
     ]
    }
   ],
   "source": [
    "result = adfuller(df['VWAP'])\n",
    "print('ADF Statistic: %f' % result[0])\n",
    "print('p-value: %f' % result[1]) \n",
    "print('Critical Values:')\n",
    "for key, value in result[4].items():\n",
    "    print('\\t%s: %.3f' % (key, value))"
   ]
  },
  {
   "cell_type": "code",
   "execution_count": null,
   "metadata": {
    "colab": {
     "base_uri": "https://localhost:8080/",
     "height": 354
    },
    "id": "sSFJcALZJDYy",
    "outputId": "2c443259-af65-45a7-c08a-e64f3491dc0b"
   },
   "outputs": [
    {
     "data": {
      "text/html": [
       "<div>\n",
       "<style scoped>\n",
       "    .dataframe tbody tr th:only-of-type {\n",
       "        vertical-align: middle;\n",
       "    }\n",
       "\n",
       "    .dataframe tbody tr th {\n",
       "        vertical-align: top;\n",
       "    }\n",
       "\n",
       "    .dataframe thead th {\n",
       "        text-align: right;\n",
       "    }\n",
       "</style>\n",
       "<table border=\"1\" class=\"dataframe\">\n",
       "  <thead>\n",
       "    <tr style=\"text-align: right;\">\n",
       "      <th></th>\n",
       "      <th>Symbol</th>\n",
       "      <th>Series</th>\n",
       "      <th>Prev Close</th>\n",
       "      <th>Open</th>\n",
       "      <th>High</th>\n",
       "      <th>Low</th>\n",
       "      <th>Last</th>\n",
       "      <th>Close</th>\n",
       "      <th>VWAP</th>\n",
       "      <th>Volume</th>\n",
       "      <th>Turnover</th>\n",
       "      <th>Trades</th>\n",
       "      <th>Deliverable Volume</th>\n",
       "      <th>%Deliverble</th>\n",
       "      <th>vwap_boxcox</th>\n",
       "      <th>VWAP_rolled</th>\n",
       "    </tr>\n",
       "    <tr>\n",
       "      <th>Date</th>\n",
       "      <th></th>\n",
       "      <th></th>\n",
       "      <th></th>\n",
       "      <th></th>\n",
       "      <th></th>\n",
       "      <th></th>\n",
       "      <th></th>\n",
       "      <th></th>\n",
       "      <th></th>\n",
       "      <th></th>\n",
       "      <th></th>\n",
       "      <th></th>\n",
       "      <th></th>\n",
       "      <th></th>\n",
       "      <th></th>\n",
       "      <th></th>\n",
       "    </tr>\n",
       "  </thead>\n",
       "  <tbody>\n",
       "    <tr>\n",
       "      <th>2003-07-09</th>\n",
       "      <td>MARUTI</td>\n",
       "      <td>EQ</td>\n",
       "      <td>125.00</td>\n",
       "      <td>164.90</td>\n",
       "      <td>170.40</td>\n",
       "      <td>155.00</td>\n",
       "      <td>164.0</td>\n",
       "      <td>164.30</td>\n",
       "      <td>165.95</td>\n",
       "      <td>35164283</td>\n",
       "      <td>5.835528e+14</td>\n",
       "      <td>53853.7</td>\n",
       "      <td>8537695.0</td>\n",
       "      <td>0.2428</td>\n",
       "      <td>4.513057</td>\n",
       "      <td>NaN</td>\n",
       "    </tr>\n",
       "    <tr>\n",
       "      <th>2003-07-10</th>\n",
       "      <td>MARUTI</td>\n",
       "      <td>EQ</td>\n",
       "      <td>164.30</td>\n",
       "      <td>167.00</td>\n",
       "      <td>168.70</td>\n",
       "      <td>164.50</td>\n",
       "      <td>167.0</td>\n",
       "      <td>167.00</td>\n",
       "      <td>166.74</td>\n",
       "      <td>10464179</td>\n",
       "      <td>1.744820e+14</td>\n",
       "      <td>53853.7</td>\n",
       "      <td>4363947.0</td>\n",
       "      <td>0.4170</td>\n",
       "      <td>4.516738</td>\n",
       "      <td>NaN</td>\n",
       "    </tr>\n",
       "    <tr>\n",
       "      <th>2003-07-11</th>\n",
       "      <td>MARUTI</td>\n",
       "      <td>EQ</td>\n",
       "      <td>167.00</td>\n",
       "      <td>167.75</td>\n",
       "      <td>174.85</td>\n",
       "      <td>166.25</td>\n",
       "      <td>173.6</td>\n",
       "      <td>173.35</td>\n",
       "      <td>172.45</td>\n",
       "      <td>11740117</td>\n",
       "      <td>2.024622e+14</td>\n",
       "      <td>53853.7</td>\n",
       "      <td>3014852.0</td>\n",
       "      <td>0.2568</td>\n",
       "      <td>4.542816</td>\n",
       "      <td>NaN</td>\n",
       "    </tr>\n",
       "    <tr>\n",
       "      <th>2003-07-14</th>\n",
       "      <td>MARUTI</td>\n",
       "      <td>EQ</td>\n",
       "      <td>173.35</td>\n",
       "      <td>174.25</td>\n",
       "      <td>179.25</td>\n",
       "      <td>174.25</td>\n",
       "      <td>178.6</td>\n",
       "      <td>177.95</td>\n",
       "      <td>177.91</td>\n",
       "      <td>5982324</td>\n",
       "      <td>1.064313e+14</td>\n",
       "      <td>53853.7</td>\n",
       "      <td>1949217.0</td>\n",
       "      <td>0.3258</td>\n",
       "      <td>4.566918</td>\n",
       "      <td>NaN</td>\n",
       "    </tr>\n",
       "    <tr>\n",
       "      <th>2003-07-15</th>\n",
       "      <td>MARUTI</td>\n",
       "      <td>EQ</td>\n",
       "      <td>177.95</td>\n",
       "      <td>200.00</td>\n",
       "      <td>200.00</td>\n",
       "      <td>173.00</td>\n",
       "      <td>176.3</td>\n",
       "      <td>176.20</td>\n",
       "      <td>176.88</td>\n",
       "      <td>6173689</td>\n",
       "      <td>1.092001e+14</td>\n",
       "      <td>53853.7</td>\n",
       "      <td>1307694.0</td>\n",
       "      <td>0.2118</td>\n",
       "      <td>4.562431</td>\n",
       "      <td>NaN</td>\n",
       "    </tr>\n",
       "  </tbody>\n",
       "</table>\n",
       "</div>"
      ],
      "text/plain": [
       "            Symbol Series  Prev Close  ...  %Deliverble  vwap_boxcox  VWAP_rolled\n",
       "Date                                   ...                                       \n",
       "2003-07-09  MARUTI     EQ      125.00  ...       0.2428     4.513057          NaN\n",
       "2003-07-10  MARUTI     EQ      164.30  ...       0.4170     4.516738          NaN\n",
       "2003-07-11  MARUTI     EQ      167.00  ...       0.2568     4.542816          NaN\n",
       "2003-07-14  MARUTI     EQ      173.35  ...       0.3258     4.566918          NaN\n",
       "2003-07-15  MARUTI     EQ      177.95  ...       0.2118     4.562431          NaN\n",
       "\n",
       "[5 rows x 16 columns]"
      ]
     },
     "execution_count": 12,
     "metadata": {
      "tags": []
     },
     "output_type": "execute_result"
    }
   ],
   "source": [
    "df2 = df.copy()\n",
    "df2.head()"
   ]
  },
  {
   "cell_type": "code",
   "execution_count": null,
   "metadata": {
    "colab": {
     "base_uri": "https://localhost:8080/",
     "height": 354
    },
    "id": "wHo3hy6HJVFP",
    "outputId": "62989988-8d30-479a-d60c-ec94e1fca19b"
   },
   "outputs": [
    {
     "data": {
      "text/html": [
       "<div>\n",
       "<style scoped>\n",
       "    .dataframe tbody tr th:only-of-type {\n",
       "        vertical-align: middle;\n",
       "    }\n",
       "\n",
       "    .dataframe tbody tr th {\n",
       "        vertical-align: top;\n",
       "    }\n",
       "\n",
       "    .dataframe thead th {\n",
       "        text-align: right;\n",
       "    }\n",
       "</style>\n",
       "<table border=\"1\" class=\"dataframe\">\n",
       "  <thead>\n",
       "    <tr style=\"text-align: right;\">\n",
       "      <th></th>\n",
       "      <th>Date</th>\n",
       "      <th>Symbol</th>\n",
       "      <th>Series</th>\n",
       "      <th>Prev Close</th>\n",
       "      <th>Open</th>\n",
       "      <th>High</th>\n",
       "      <th>Low</th>\n",
       "      <th>Last</th>\n",
       "      <th>Close</th>\n",
       "      <th>VWAP</th>\n",
       "      <th>Volume</th>\n",
       "      <th>Turnover</th>\n",
       "      <th>Trades</th>\n",
       "      <th>Deliverable Volume</th>\n",
       "      <th>%Deliverble</th>\n",
       "      <th>vwap_boxcox</th>\n",
       "      <th>VWAP_rolled</th>\n",
       "      <th>High_mean_lag3</th>\n",
       "      <th>High_mean_lag7</th>\n",
       "      <th>High_mean_lag30</th>\n",
       "      <th>High_std_lag3</th>\n",
       "      <th>High_std_lag7</th>\n",
       "      <th>High_std_lag30</th>\n",
       "      <th>Low_mean_lag3</th>\n",
       "      <th>Low_mean_lag7</th>\n",
       "      <th>Low_mean_lag30</th>\n",
       "      <th>Low_std_lag3</th>\n",
       "      <th>Low_std_lag7</th>\n",
       "      <th>Low_std_lag30</th>\n",
       "      <th>Volume_mean_lag3</th>\n",
       "      <th>Volume_mean_lag7</th>\n",
       "      <th>Volume_mean_lag30</th>\n",
       "      <th>Volume_std_lag3</th>\n",
       "      <th>Volume_std_lag7</th>\n",
       "      <th>Volume_std_lag30</th>\n",
       "      <th>Turnover_mean_lag3</th>\n",
       "      <th>Turnover_mean_lag7</th>\n",
       "      <th>Turnover_mean_lag30</th>\n",
       "      <th>Turnover_std_lag3</th>\n",
       "      <th>Turnover_std_lag7</th>\n",
       "      <th>Turnover_std_lag30</th>\n",
       "      <th>Trades_mean_lag3</th>\n",
       "      <th>Trades_mean_lag7</th>\n",
       "      <th>Trades_mean_lag30</th>\n",
       "      <th>Trades_std_lag3</th>\n",
       "      <th>Trades_std_lag7</th>\n",
       "      <th>Trades_std_lag30</th>\n",
       "    </tr>\n",
       "    <tr>\n",
       "      <th>Date</th>\n",
       "      <th></th>\n",
       "      <th></th>\n",
       "      <th></th>\n",
       "      <th></th>\n",
       "      <th></th>\n",
       "      <th></th>\n",
       "      <th></th>\n",
       "      <th></th>\n",
       "      <th></th>\n",
       "      <th></th>\n",
       "      <th></th>\n",
       "      <th></th>\n",
       "      <th></th>\n",
       "      <th></th>\n",
       "      <th></th>\n",
       "      <th></th>\n",
       "      <th></th>\n",
       "      <th></th>\n",
       "      <th></th>\n",
       "      <th></th>\n",
       "      <th></th>\n",
       "      <th></th>\n",
       "      <th></th>\n",
       "      <th></th>\n",
       "      <th></th>\n",
       "      <th></th>\n",
       "      <th></th>\n",
       "      <th></th>\n",
       "      <th></th>\n",
       "      <th></th>\n",
       "      <th></th>\n",
       "      <th></th>\n",
       "      <th></th>\n",
       "      <th></th>\n",
       "      <th></th>\n",
       "      <th></th>\n",
       "      <th></th>\n",
       "      <th></th>\n",
       "      <th></th>\n",
       "      <th></th>\n",
       "      <th></th>\n",
       "      <th></th>\n",
       "      <th></th>\n",
       "      <th></th>\n",
       "      <th></th>\n",
       "      <th></th>\n",
       "      <th></th>\n",
       "    </tr>\n",
       "  </thead>\n",
       "  <tbody>\n",
       "    <tr>\n",
       "      <th>2003-07-09</th>\n",
       "      <td>2003-07-09</td>\n",
       "      <td>MARUTI</td>\n",
       "      <td>EQ</td>\n",
       "      <td>125.00</td>\n",
       "      <td>164.90</td>\n",
       "      <td>170.40</td>\n",
       "      <td>155.00</td>\n",
       "      <td>164.0</td>\n",
       "      <td>164.30</td>\n",
       "      <td>165.95</td>\n",
       "      <td>35164283</td>\n",
       "      <td>5.835528e+14</td>\n",
       "      <td>53853.7</td>\n",
       "      <td>8537695.0</td>\n",
       "      <td>0.2428</td>\n",
       "      <td>4.513057</td>\n",
       "      <td>2926.467075</td>\n",
       "      <td>NaN</td>\n",
       "      <td>NaN</td>\n",
       "      <td>NaN</td>\n",
       "      <td>NaN</td>\n",
       "      <td>NaN</td>\n",
       "      <td>NaN</td>\n",
       "      <td>NaN</td>\n",
       "      <td>NaN</td>\n",
       "      <td>NaN</td>\n",
       "      <td>NaN</td>\n",
       "      <td>NaN</td>\n",
       "      <td>NaN</td>\n",
       "      <td>NaN</td>\n",
       "      <td>NaN</td>\n",
       "      <td>NaN</td>\n",
       "      <td>NaN</td>\n",
       "      <td>NaN</td>\n",
       "      <td>NaN</td>\n",
       "      <td>NaN</td>\n",
       "      <td>NaN</td>\n",
       "      <td>NaN</td>\n",
       "      <td>NaN</td>\n",
       "      <td>NaN</td>\n",
       "      <td>NaN</td>\n",
       "      <td>NaN</td>\n",
       "      <td>NaN</td>\n",
       "      <td>NaN</td>\n",
       "      <td>NaN</td>\n",
       "      <td>NaN</td>\n",
       "      <td>NaN</td>\n",
       "    </tr>\n",
       "    <tr>\n",
       "      <th>2003-07-10</th>\n",
       "      <td>2003-07-10</td>\n",
       "      <td>MARUTI</td>\n",
       "      <td>EQ</td>\n",
       "      <td>164.30</td>\n",
       "      <td>167.00</td>\n",
       "      <td>168.70</td>\n",
       "      <td>164.50</td>\n",
       "      <td>167.0</td>\n",
       "      <td>167.00</td>\n",
       "      <td>166.74</td>\n",
       "      <td>10464179</td>\n",
       "      <td>1.744820e+14</td>\n",
       "      <td>53853.7</td>\n",
       "      <td>4363947.0</td>\n",
       "      <td>0.4170</td>\n",
       "      <td>4.516738</td>\n",
       "      <td>2926.467075</td>\n",
       "      <td>170.399994</td>\n",
       "      <td>170.399994</td>\n",
       "      <td>170.399994</td>\n",
       "      <td>NaN</td>\n",
       "      <td>NaN</td>\n",
       "      <td>NaN</td>\n",
       "      <td>155.000000</td>\n",
       "      <td>155.000000</td>\n",
       "      <td>155.000000</td>\n",
       "      <td>NaN</td>\n",
       "      <td>NaN</td>\n",
       "      <td>NaN</td>\n",
       "      <td>35164284.0</td>\n",
       "      <td>35164284.0</td>\n",
       "      <td>35164284.0</td>\n",
       "      <td>NaN</td>\n",
       "      <td>NaN</td>\n",
       "      <td>NaN</td>\n",
       "      <td>5.835528e+14</td>\n",
       "      <td>5.835528e+14</td>\n",
       "      <td>5.835528e+14</td>\n",
       "      <td>NaN</td>\n",
       "      <td>NaN</td>\n",
       "      <td>NaN</td>\n",
       "      <td>53853.699219</td>\n",
       "      <td>53853.699219</td>\n",
       "      <td>53853.699219</td>\n",
       "      <td>NaN</td>\n",
       "      <td>NaN</td>\n",
       "      <td>NaN</td>\n",
       "    </tr>\n",
       "    <tr>\n",
       "      <th>2003-07-11</th>\n",
       "      <td>2003-07-11</td>\n",
       "      <td>MARUTI</td>\n",
       "      <td>EQ</td>\n",
       "      <td>167.00</td>\n",
       "      <td>167.75</td>\n",
       "      <td>174.85</td>\n",
       "      <td>166.25</td>\n",
       "      <td>173.6</td>\n",
       "      <td>173.35</td>\n",
       "      <td>172.45</td>\n",
       "      <td>11740117</td>\n",
       "      <td>2.024622e+14</td>\n",
       "      <td>53853.7</td>\n",
       "      <td>3014852.0</td>\n",
       "      <td>0.2568</td>\n",
       "      <td>4.542816</td>\n",
       "      <td>2926.467075</td>\n",
       "      <td>169.550003</td>\n",
       "      <td>169.550003</td>\n",
       "      <td>169.550003</td>\n",
       "      <td>1.202082</td>\n",
       "      <td>1.202082</td>\n",
       "      <td>1.202082</td>\n",
       "      <td>159.750000</td>\n",
       "      <td>159.750000</td>\n",
       "      <td>159.750000</td>\n",
       "      <td>6.717515</td>\n",
       "      <td>6.717515</td>\n",
       "      <td>6.717515</td>\n",
       "      <td>22814232.0</td>\n",
       "      <td>22814232.0</td>\n",
       "      <td>22814232.0</td>\n",
       "      <td>17465612.0</td>\n",
       "      <td>17465612.0</td>\n",
       "      <td>17465612.0</td>\n",
       "      <td>3.790174e+14</td>\n",
       "      <td>3.790174e+14</td>\n",
       "      <td>3.790174e+14</td>\n",
       "      <td>2.892568e+14</td>\n",
       "      <td>2.892568e+14</td>\n",
       "      <td>2.892568e+14</td>\n",
       "      <td>53853.699219</td>\n",
       "      <td>53853.699219</td>\n",
       "      <td>53853.699219</td>\n",
       "      <td>0.0</td>\n",
       "      <td>0.0</td>\n",
       "      <td>0.0</td>\n",
       "    </tr>\n",
       "    <tr>\n",
       "      <th>2003-07-14</th>\n",
       "      <td>2003-07-14</td>\n",
       "      <td>MARUTI</td>\n",
       "      <td>EQ</td>\n",
       "      <td>173.35</td>\n",
       "      <td>174.25</td>\n",
       "      <td>179.25</td>\n",
       "      <td>174.25</td>\n",
       "      <td>178.6</td>\n",
       "      <td>177.95</td>\n",
       "      <td>177.91</td>\n",
       "      <td>5982324</td>\n",
       "      <td>1.064313e+14</td>\n",
       "      <td>53853.7</td>\n",
       "      <td>1949217.0</td>\n",
       "      <td>0.3258</td>\n",
       "      <td>4.566918</td>\n",
       "      <td>2926.467075</td>\n",
       "      <td>171.316666</td>\n",
       "      <td>171.316666</td>\n",
       "      <td>171.316666</td>\n",
       "      <td>3.175820</td>\n",
       "      <td>3.175820</td>\n",
       "      <td>3.175820</td>\n",
       "      <td>161.916672</td>\n",
       "      <td>161.916672</td>\n",
       "      <td>161.916672</td>\n",
       "      <td>6.053580</td>\n",
       "      <td>6.053580</td>\n",
       "      <td>6.053580</td>\n",
       "      <td>19122860.0</td>\n",
       "      <td>19122860.0</td>\n",
       "      <td>19122860.0</td>\n",
       "      <td>13906921.0</td>\n",
       "      <td>13906921.0</td>\n",
       "      <td>13906921.0</td>\n",
       "      <td>3.201657e+14</td>\n",
       "      <td>3.201657e+14</td>\n",
       "      <td>3.201657e+14</td>\n",
       "      <td>2.285286e+14</td>\n",
       "      <td>2.285286e+14</td>\n",
       "      <td>2.285286e+14</td>\n",
       "      <td>53853.699219</td>\n",
       "      <td>53853.699219</td>\n",
       "      <td>53853.699219</td>\n",
       "      <td>0.0</td>\n",
       "      <td>0.0</td>\n",
       "      <td>0.0</td>\n",
       "    </tr>\n",
       "    <tr>\n",
       "      <th>2003-07-15</th>\n",
       "      <td>2003-07-15</td>\n",
       "      <td>MARUTI</td>\n",
       "      <td>EQ</td>\n",
       "      <td>177.95</td>\n",
       "      <td>200.00</td>\n",
       "      <td>200.00</td>\n",
       "      <td>173.00</td>\n",
       "      <td>176.3</td>\n",
       "      <td>176.20</td>\n",
       "      <td>176.88</td>\n",
       "      <td>6173689</td>\n",
       "      <td>1.092001e+14</td>\n",
       "      <td>53853.7</td>\n",
       "      <td>1307694.0</td>\n",
       "      <td>0.2118</td>\n",
       "      <td>4.562431</td>\n",
       "      <td>2926.467075</td>\n",
       "      <td>174.266663</td>\n",
       "      <td>173.300003</td>\n",
       "      <td>173.300003</td>\n",
       "      <td>5.299135</td>\n",
       "      <td>4.739022</td>\n",
       "      <td>4.739022</td>\n",
       "      <td>168.333328</td>\n",
       "      <td>165.000000</td>\n",
       "      <td>165.000000</td>\n",
       "      <td>5.198157</td>\n",
       "      <td>7.903059</td>\n",
       "      <td>7.903059</td>\n",
       "      <td>9395540.0</td>\n",
       "      <td>15837726.0</td>\n",
       "      <td>15837726.0</td>\n",
       "      <td>3023993.5</td>\n",
       "      <td>13118818.0</td>\n",
       "      <td>13118818.0</td>\n",
       "      <td>1.611251e+14</td>\n",
       "      <td>2.667321e+14</td>\n",
       "      <td>2.667321e+14</td>\n",
       "      <td>4.938911e+13</td>\n",
       "      <td>2.150290e+14</td>\n",
       "      <td>2.150290e+14</td>\n",
       "      <td>53853.699219</td>\n",
       "      <td>53853.699219</td>\n",
       "      <td>53853.699219</td>\n",
       "      <td>0.0</td>\n",
       "      <td>0.0</td>\n",
       "      <td>0.0</td>\n",
       "    </tr>\n",
       "  </tbody>\n",
       "</table>\n",
       "</div>"
      ],
      "text/plain": [
       "                 Date  Symbol  ... Trades_std_lag7  Trades_std_lag30\n",
       "Date                           ...                                  \n",
       "2003-07-09 2003-07-09  MARUTI  ...             NaN               NaN\n",
       "2003-07-10 2003-07-10  MARUTI  ...             NaN               NaN\n",
       "2003-07-11 2003-07-11  MARUTI  ...             0.0               0.0\n",
       "2003-07-14 2003-07-14  MARUTI  ...             0.0               0.0\n",
       "2003-07-15 2003-07-15  MARUTI  ...             0.0               0.0\n",
       "\n",
       "[5 rows x 47 columns]"
      ]
     },
     "execution_count": 13,
     "metadata": {
      "tags": []
     },
     "output_type": "execute_result"
    }
   ],
   "source": [
    "df2.reset_index(drop=False,inplace=True)\n",
    "lag_features = [\"High\", \"Low\", \"Volume\", \"Turnover\", \"Trades\"]\n",
    "window1 = 3\n",
    "window2 = 7\n",
    "window3 = 30\n",
    "\n",
    "df_rolled_3d = df2[lag_features].rolling(window=window1, min_periods=0)\n",
    "df_rolled_7d = df2[lag_features].rolling(window=window2, min_periods=0)\n",
    "df_rolled_30d = df2[lag_features].rolling(window=window3, min_periods=0)\n",
    "\n",
    "df_mean_3d = df_rolled_3d.mean().shift(1).reset_index().astype(np.float32)\n",
    "df_mean_7d = df_rolled_7d.mean().shift(1).reset_index().astype(np.float32)\n",
    "df_mean_30d = df_rolled_30d.mean().shift(1).reset_index().astype(np.float32)\n",
    "\n",
    "df_std_3d = df_rolled_3d.std().shift(1).reset_index().astype(np.float32)\n",
    "df_std_7d = df_rolled_7d.std().shift(1).reset_index().astype(np.float32)\n",
    "df_std_30d = df_rolled_30d.std().shift(1).reset_index().astype(np.float32)\n",
    "\n",
    "for feature in lag_features:\n",
    "    df2[f\"{feature}_mean_lag{window1}\"] = df_mean_3d[feature]\n",
    "    df2[f\"{feature}_mean_lag{window2}\"] = df_mean_7d[feature]\n",
    "    df2[f\"{feature}_mean_lag{window3}\"] = df_mean_30d[feature]\n",
    "    \n",
    "    df2[f\"{feature}_std_lag{window1}\"] = df_std_3d[feature]\n",
    "    df2[f\"{feature}_std_lag{window2}\"] = df_std_7d[feature]\n",
    "    df2[f\"{feature}_std_lag{window3}\"] = df_std_30d[feature]\n",
    "\n",
    "df2.fillna(df.mean(), inplace=True)\n",
    "\n",
    "df2.set_index(\"Date\", drop=False, inplace=True)\n",
    "df2.head()"
   ]
  },
  {
   "cell_type": "code",
   "execution_count": null,
   "metadata": {
    "id": "HLJDsb19Jyvj"
   },
   "outputs": [],
   "source": [
    "df2.Date = pd.to_datetime(df2.Date, format=\"%Y-%m-%d\")\n",
    "df2[\"month\"] = df2.Date.dt.month\n",
    "df2[\"day\"] = df2.Date.dt.day"
   ]
  },
  {
   "cell_type": "code",
   "execution_count": null,
   "metadata": {
    "id": "MRtUEaQ7J2TU"
   },
   "outputs": [],
   "source": [
    "df2.dropna(axis =0,inplace=True)\n",
    "#Dropping NULL or infinite values to avoid errors.\n",
    "df2 =df2[~df2.isin([np.nan, np.inf, -np.inf]).any(1)]\n",
    "df2=df2.resample('MS').sum()\n",
    "df_train = df2[df2.index < \"2021\"]\n",
    "df_valid = df2[df2.index >= \"2021\"]\n",
    "\n",
    "exogenous_features = [\"High_mean_lag3\", \"High_std_lag3\", \"Low_mean_lag3\", \"Low_std_lag3\",\n",
    "                      \"Volume_mean_lag3\", \"Volume_std_lag3\", \"Turnover_mean_lag3\",\n",
    "                      \"Turnover_std_lag3\", \"Trades_mean_lag3\", \"Trades_std_lag3\",\n",
    "                      \"High_mean_lag7\", \"High_std_lag7\", \"Low_mean_lag7\", \"Low_std_lag7\",\n",
    "                      \"Volume_mean_lag7\", \"Volume_std_lag7\", \"Turnover_mean_lag7\",\n",
    "                      \"Turnover_std_lag7\", \"Trades_mean_lag7\", \"Trades_std_lag7\",\n",
    "                      \"High_mean_lag30\", \"High_std_lag30\", \"Low_mean_lag30\", \"Low_std_lag30\",\n",
    "                      \"Volume_mean_lag30\", \"Volume_std_lag30\", \"Turnover_mean_lag30\",\n",
    "                      \"Turnover_std_lag30\", \"Trades_mean_lag30\", \"Trades_std_lag30\",\n",
    "                      \"month\", \"day\"]"
   ]
  },
  {
   "cell_type": "code",
   "execution_count": null,
   "metadata": {
    "colab": {
     "base_uri": "https://localhost:8080/"
    },
    "id": "ALgJgsIrJ6qW",
    "outputId": "eee424d3-3933-4911-d9aa-659f65daaa36"
   },
   "outputs": [
    {
     "name": "stdout",
     "output_type": "stream",
     "text": [
      "MS\n"
     ]
    }
   ],
   "source": [
    "df3 = pd.DataFrame()\n",
    "df3['VWAP'] = df2['VWAP']\n",
    "for i in exogenous_features:\n",
    "    df3[i] = df2[i]\n",
    "print(pd.infer_freq(df3.index, warn=True))"
   ]
  },
  {
   "cell_type": "code",
   "execution_count": null,
   "metadata": {
    "colab": {
     "base_uri": "https://localhost:8080/"
    },
    "id": "JQDJhGq_KJJz",
    "outputId": "dd011bca-2fbf-4ada-cdbb-739b41809fd0"
   },
   "outputs": [
    {
     "name": "stdout",
     "output_type": "stream",
     "text": [
      "                            AutoReg Model Results                             \n",
      "==============================================================================\n",
      "Dep. Variable:                   VWAP   No. Observations:                  214\n",
      "Model:                   AutoReg-X(3)   Log Likelihood               -1379.883\n",
      "Method:               Conditional MLE   S.D. of innovations            167.468\n",
      "Date:                Mon, 19 Jul 2021   AIC                             10.592\n",
      "Time:                        19:10:29   BIC                             11.180\n",
      "Sample:                    10-01-2003   HQIC                            10.830\n",
      "                         - 04-01-2021                                         \n",
      "=======================================================================================\n",
      "                          coef    std err          z      P>|z|      [0.025      0.975]\n",
      "---------------------------------------------------------------------------------------\n",
      "intercept               0.0159      0.007      2.181      0.029       0.002       0.030\n",
      "VWAP.L1                 0.0013      0.002      0.660      0.509      -0.003       0.005\n",
      "VWAP.L2                 0.0034      0.002      1.588      0.112      -0.001       0.008\n",
      "VWAP.L3                -0.0054      0.002     -3.240      0.001      -0.009      -0.002\n",
      "High_mean_lag3         -0.3093      0.276     -1.118      0.263      -0.851       0.233\n",
      "High_std_lag3           0.9078      0.319      2.846      0.004       0.283       1.533\n",
      "Low_mean_lag3           2.4243      0.272      8.898      0.000       1.890       2.958\n",
      "Low_std_lag3            0.0006      0.298      0.002      0.998      -0.583       0.584\n",
      "Volume_mean_lag3       2.3e-05   1.21e-05      1.905      0.057   -6.58e-07    4.67e-05\n",
      "Volume_std_lag3     -4.911e-07   1.78e-05     -0.028      0.978   -3.53e-05    3.43e-05\n",
      "Turnover_mean_lag3  -3.035e-13   1.06e-13     -2.876      0.004    -5.1e-13   -9.66e-14\n",
      "Turnover_std_lag3     2.38e-13      1e-13      2.373      0.018    4.14e-14    4.35e-13\n",
      "Trades_mean_lag3        0.0014      0.001      1.837      0.066    -9.2e-05       0.003\n",
      "Trades_std_lag3        -0.0007      0.001     -1.162      0.245      -0.002       0.000\n",
      "High_mean_lag7          1.0907      0.312      3.493      0.000       0.479       1.703\n",
      "High_std_lag7          -0.4925      0.267     -1.843      0.065      -1.016       0.031\n",
      "Low_mean_lag7          -2.2302      0.308     -7.250      0.000      -2.833      -1.627\n",
      "Low_std_lag7            0.0412      0.233      0.177      0.859      -0.415       0.497\n",
      "Volume_mean_lag7    -2.651e-05   1.37e-05     -1.934      0.053   -5.34e-05    3.61e-07\n",
      "Volume_std_lag7     -6.726e-07   1.46e-05     -0.046      0.963   -2.94e-05     2.8e-05\n",
      "Turnover_mean_lag7   3.115e-13   1.24e-13      2.502      0.012    6.75e-14    5.55e-13\n",
      "Turnover_std_lag7   -2.135e-13   8.59e-14     -2.486      0.013   -3.82e-13   -4.52e-14\n",
      "Trades_mean_lag7       -0.0021      0.001     -2.436      0.015      -0.004      -0.000\n",
      "Trades_std_lag7         0.0016      0.001      3.055      0.002       0.001       0.003\n",
      "High_mean_lag30        -0.2301      0.092     -2.513      0.012      -0.410      -0.051\n",
      "High_std_lag30         -0.0352      0.074     -0.474      0.635      -0.181       0.110\n",
      "Low_mean_lag30          0.2532      0.091      2.796      0.005       0.076       0.431\n",
      "Low_std_lag30           0.0307      0.073      0.421      0.674      -0.112       0.174\n",
      "Volume_mean_lag30    5.177e-06   3.63e-06      1.428      0.153   -1.93e-06    1.23e-05\n",
      "Volume_std_lag30    -1.441e-06   4.51e-06     -0.320      0.749   -1.03e-05     7.4e-06\n",
      "Turnover_mean_lag30 -3.965e-14   3.98e-14     -0.996      0.319   -1.18e-13    3.83e-14\n",
      "Turnover_std_lag30   5.244e-14   3.06e-14      1.715      0.086   -7.48e-15    1.12e-13\n",
      "Trades_mean_lag30       0.0008      0.000      3.072      0.002       0.000       0.001\n",
      "Trades_std_lag30       -0.0007      0.000     -3.224      0.001      -0.001      -0.000\n",
      "month                   0.1362      0.168      0.810      0.418      -0.193       0.466\n",
      "day                    -0.2546      0.209     -1.217      0.223      -0.665       0.155\n",
      "                                    Roots                                    \n",
      "=============================================================================\n",
      "                  Real          Imaginary           Modulus         Frequency\n",
      "-----------------------------------------------------------------------------\n",
      "AR.1           -5.5131           -0.0000j            5.5131           -0.5000\n",
      "AR.2            3.0719           -4.9185j            5.7990           -0.1611\n",
      "AR.3            3.0719           +4.9185j            5.7990            0.1611\n",
      "-----------------------------------------------------------------------------\n",
      "μ=0.015930282450765665 ,ϕ=0.001309302146965341\n"
     ]
    },
    {
     "name": "stderr",
     "output_type": "stream",
     "text": [
      "/usr/local/lib/python3.7/dist-packages/statsmodels/tsa/ar_model.py:252: FutureWarning:\n",
      "\n",
      "The parameter names will change after 0.12 is released. Set old_names to False to use the new names now. Set old_names to True to use the old names. \n",
      "\n"
     ]
    }
   ],
   "source": [
    "from statsmodels.tsa.ar_model import AutoReg\n",
    "model = AutoReg(df3.VWAP,lags=3, exog=df3[exogenous_features])\n",
    "res = model.fit()\n",
    "print(res.summary())\n",
    "print(\"μ={} ,ϕ={}\".format(res.params[0],res.params[1]))"
   ]
  },
  {
   "cell_type": "code",
   "execution_count": null,
   "metadata": {
    "colab": {
     "base_uri": "https://localhost:8080/"
    },
    "id": "2Dnv1V4HKwur",
    "outputId": "b7e512e1-ec6e-43d1-eba5-ca27e4e6cb88"
   },
   "outputs": [
    {
     "name": "stdout",
     "output_type": "stream",
     "text": [
      "                            AutoReg Model Results                             \n",
      "==============================================================================\n",
      "Dep. Variable:                   VWAP   No. Observations:                  214\n",
      "Model:                   AutoReg-X(3)   Log Likelihood               -1379.883\n",
      "Method:               Conditional MLE   S.D. of innovations            167.468\n",
      "Date:                Mon, 19 Jul 2021   AIC                             10.592\n",
      "Time:                        19:10:33   BIC                             11.180\n",
      "Sample:                    10-01-2003   HQIC                            10.830\n",
      "                         - 04-01-2021                                         \n",
      "=======================================================================================\n",
      "                          coef    std err          z      P>|z|      [0.025      0.975]\n",
      "---------------------------------------------------------------------------------------\n",
      "intercept               0.0159      0.009      1.854      0.064      -0.001       0.033\n",
      "VWAP.L1                 0.0013      0.003      0.443      0.658      -0.004       0.007\n",
      "VWAP.L2                 0.0034      0.003      1.354      0.176      -0.002       0.008\n",
      "VWAP.L3                -0.0054      0.002     -2.295      0.022      -0.010      -0.001\n",
      "High_mean_lag3         -0.3093      0.356     -0.868      0.385      -1.007       0.389\n",
      "High_std_lag3           0.9078      0.435      2.087      0.037       0.055       1.760\n",
      "Low_mean_lag3           2.4243      0.340      7.131      0.000       1.758       3.091\n",
      "Low_std_lag3            0.0006      0.414      0.001      0.999      -0.810       0.811\n",
      "Volume_mean_lag3       2.3e-05   7.47e-06      3.079      0.002    8.36e-06    3.76e-05\n",
      "Volume_std_lag3     -4.911e-07   1.42e-05     -0.034      0.973   -2.84e-05    2.74e-05\n",
      "Turnover_mean_lag3  -3.035e-13   1.19e-13     -2.559      0.010   -5.36e-13   -7.11e-14\n",
      "Turnover_std_lag3     2.38e-13   1.53e-13      1.554      0.120   -6.21e-14    5.38e-13\n",
      "Trades_mean_lag3        0.0014      0.001      1.761      0.078      -0.000       0.003\n",
      "Trades_std_lag3        -0.0007      0.001     -0.852      0.394      -0.002       0.001\n",
      "High_mean_lag7          1.0907      0.408      2.671      0.008       0.290       1.891\n",
      "High_std_lag7          -0.4925      0.385     -1.279      0.201      -1.248       0.263\n",
      "Low_mean_lag7          -2.2302      0.385     -5.799      0.000      -2.984      -1.476\n",
      "Low_std_lag7            0.0412      0.350      0.118      0.906      -0.645       0.728\n",
      "Volume_mean_lag7    -2.651e-05   9.69e-06     -2.736      0.006   -4.55e-05   -7.52e-06\n",
      "Volume_std_lag7     -6.726e-07   1.18e-05     -0.057      0.955   -2.38e-05    2.24e-05\n",
      "Turnover_mean_lag7   3.115e-13   1.56e-13      2.000      0.046    6.23e-15    6.17e-13\n",
      "Turnover_std_lag7   -2.135e-13   1.23e-13     -1.735      0.083   -4.55e-13    2.76e-14\n",
      "Trades_mean_lag7       -0.0021      0.001     -2.325      0.020      -0.004      -0.000\n",
      "Trades_std_lag7         0.0016      0.001      2.277      0.023       0.000       0.003\n",
      "High_mean_lag30        -0.2301      0.121     -1.894      0.058      -0.468       0.008\n",
      "High_std_lag30         -0.0352      0.102     -0.347      0.728      -0.234       0.164\n",
      "Low_mean_lag30          0.2532      0.117      2.172      0.030       0.025       0.482\n",
      "Low_std_lag30           0.0307      0.093      0.329      0.742      -0.152       0.214\n",
      "Volume_mean_lag30    5.177e-06   3.31e-06      1.564      0.118   -1.31e-06    1.17e-05\n",
      "Volume_std_lag30    -1.441e-06    2.9e-06     -0.497      0.619   -7.13e-06    4.25e-06\n",
      "Turnover_mean_lag30 -3.965e-14   5.77e-14     -0.687      0.492   -1.53e-13    7.35e-14\n",
      "Turnover_std_lag30   5.244e-14   3.12e-14      1.680      0.093   -8.75e-15    1.14e-13\n",
      "Trades_mean_lag30       0.0008      0.000      2.751      0.006       0.000       0.001\n",
      "Trades_std_lag30       -0.0007      0.000     -2.920      0.003      -0.001      -0.000\n",
      "month                   0.1362      0.154      0.885      0.376      -0.165       0.438\n",
      "day                    -0.2546      0.242     -1.053      0.292      -0.729       0.219\n",
      "                                    Roots                                    \n",
      "=============================================================================\n",
      "                  Real          Imaginary           Modulus         Frequency\n",
      "-----------------------------------------------------------------------------\n",
      "AR.1           -5.5131           -0.0000j            5.5131           -0.5000\n",
      "AR.2            3.0719           -4.9185j            5.7990           -0.1611\n",
      "AR.3            3.0719           +4.9185j            5.7990            0.1611\n",
      "-----------------------------------------------------------------------------\n",
      "μ=0.015930282450765665 ,ϕ=0.001309302146965341\n"
     ]
    }
   ],
   "source": [
    "res = model.fit(cov_type=\"HC0\")\n",
    "print(res.summary())\n",
    "print(\"μ={} ,ϕ={}\".format(res.params[0],res.params[1]))"
   ]
  },
  {
   "cell_type": "code",
   "execution_count": null,
   "metadata": {
    "colab": {
     "base_uri": "https://localhost:8080/"
    },
    "id": "eGkeCCqoLNop",
    "outputId": "136dcb5d-e80e-4319-8297-0f319d0cb32d"
   },
   "outputs": [
    {
     "name": "stdout",
     "output_type": "stream",
     "text": [
      "The root mean squared error is 230.69062679075083.\n"
     ]
    }
   ],
   "source": [
    "rmse = math.sqrt(mean_squared_error(df3['VWAP'].loc['2014-01-01':'2021-01-04'],res.predict(start='2014-01-01',end='2020-11-01') ))\n",
    "print(\"The root mean squared error is {}.\".format(rmse))"
   ]
  },
  {
   "cell_type": "code",
   "execution_count": null,
   "metadata": {
    "colab": {
     "base_uri": "https://localhost:8080/"
    },
    "id": "RWog2ZawLgrf",
    "outputId": "b23e8306-7832-47df-d6ea-c702ed3505e7"
   },
   "outputs": [
    {
     "name": "stdout",
     "output_type": "stream",
     "text": [
      "Collecting pmdarima\n",
      "  Downloading pmdarima-1.8.2-cp37-cp37m-manylinux1_x86_64.whl (1.5 MB)\n",
      "\u001b[K     |████████████████████████████████| 1.5 MB 4.0 MB/s \n",
      "\u001b[?25hRequirement already satisfied: urllib3 in /usr/local/lib/python3.7/dist-packages (from pmdarima) (1.24.3)\n",
      "Requirement already satisfied: Cython!=0.29.18,>=0.29 in /usr/local/lib/python3.7/dist-packages (from pmdarima) (0.29.23)\n",
      "Requirement already satisfied: joblib>=0.11 in /usr/local/lib/python3.7/dist-packages (from pmdarima) (1.0.1)\n",
      "Requirement already satisfied: scipy>=1.3.2 in /usr/local/lib/python3.7/dist-packages (from pmdarima) (1.4.1)\n",
      "Requirement already satisfied: setuptools!=50.0.0,>=38.6.0 in /usr/local/lib/python3.7/dist-packages (from pmdarima) (57.2.0)\n",
      "Requirement already satisfied: statsmodels!=0.12.0,>=0.11 in /usr/local/lib/python3.7/dist-packages (from pmdarima) (0.12.2)\n",
      "Requirement already satisfied: numpy~=1.19.0 in /usr/local/lib/python3.7/dist-packages (from pmdarima) (1.19.5)\n",
      "Requirement already satisfied: scikit-learn>=0.22 in /usr/local/lib/python3.7/dist-packages (from pmdarima) (0.22.2.post1)\n",
      "Requirement already satisfied: pandas>=0.19 in /usr/local/lib/python3.7/dist-packages (from pmdarima) (1.1.5)\n",
      "Requirement already satisfied: python-dateutil>=2.7.3 in /usr/local/lib/python3.7/dist-packages (from pandas>=0.19->pmdarima) (2.8.1)\n",
      "Requirement already satisfied: pytz>=2017.2 in /usr/local/lib/python3.7/dist-packages (from pandas>=0.19->pmdarima) (2018.9)\n",
      "Requirement already satisfied: six>=1.5 in /usr/local/lib/python3.7/dist-packages (from python-dateutil>=2.7.3->pandas>=0.19->pmdarima) (1.15.0)\n",
      "Requirement already satisfied: patsy>=0.5 in /usr/local/lib/python3.7/dist-packages (from statsmodels!=0.12.0,>=0.11->pmdarima) (0.5.1)\n",
      "Installing collected packages: pmdarima\n",
      "Successfully installed pmdarima-1.8.2\n"
     ]
    }
   ],
   "source": [
    "pip install pmdarima"
   ]
  },
  {
   "cell_type": "code",
   "execution_count": null,
   "metadata": {
    "colab": {
     "base_uri": "https://localhost:8080/"
    },
    "id": "Pa-fLqQiL45X",
    "outputId": "19087657-ac49-4727-dd15-a6c48977f781"
   },
   "outputs": [
    {
     "name": "stdout",
     "output_type": "stream",
     "text": [
      "Performing stepwise search to minimize aic\n"
     ]
    },
    {
     "name": "stderr",
     "output_type": "stream",
     "text": [
      "/usr/local/lib/python3.7/dist-packages/statsmodels/tsa/statespace/sarimax.py:1890: RuntimeWarning:\n",
      "\n",
      "divide by zero encountered in reciprocal\n",
      "\n",
      "/usr/local/lib/python3.7/dist-packages/statsmodels/tsa/statespace/sarimax.py:1897: RuntimeWarning:\n",
      "\n",
      "divide by zero encountered in reciprocal\n",
      "\n"
     ]
    },
    {
     "name": "stdout",
     "output_type": "stream",
     "text": [
      " ARIMA(2,0,2)(0,0,0)[0] intercept   : AIC=2815.225, Time=1.26 sec\n",
      " ARIMA(0,0,0)(0,0,0)[0] intercept   : AIC=2807.087, Time=0.61 sec\n",
      " ARIMA(1,0,0)(0,0,0)[0] intercept   : AIC=2797.559, Time=0.63 sec\n",
      " ARIMA(0,0,1)(0,0,0)[0] intercept   : AIC=2795.240, Time=1.10 sec\n",
      " ARIMA(0,0,0)(0,0,0)[0]             : AIC=3718.983, Time=0.56 sec\n",
      " ARIMA(1,0,1)(0,0,0)[0] intercept   : AIC=2796.711, Time=1.05 sec\n",
      " ARIMA(0,0,2)(0,0,0)[0] intercept   : AIC=2796.762, Time=1.16 sec\n",
      " ARIMA(1,0,2)(0,0,0)[0] intercept   : AIC=2817.282, Time=1.24 sec\n",
      " ARIMA(0,0,1)(0,0,0)[0]             : AIC=2793.244, Time=1.04 sec\n",
      " ARIMA(1,0,1)(0,0,0)[0]             : AIC=2794.708, Time=1.04 sec\n",
      " ARIMA(0,0,2)(0,0,0)[0]             : AIC=2794.762, Time=1.03 sec\n",
      " ARIMA(1,0,0)(0,0,0)[0]             : AIC=2795.564, Time=0.61 sec\n",
      " ARIMA(1,0,2)(0,0,0)[0]             : AIC=2814.795, Time=1.14 sec\n",
      "\n",
      "Best model:  ARIMA(0,0,1)(0,0,0)[0]          \n",
      "Total fit time: 12.527 seconds\n"
     ]
    }
   ],
   "source": [
    "from pmdarima.arima import auto_arima\n",
    "model = auto_arima(df_train.VWAP, exogenous=df_train[exogenous_features], trace=True, error_action=\"ignore\", suppress_warnings=True)\n",
    "model.fit(df_train.VWAP, exogenous=df_train[exogenous_features])\n",
    "\n",
    "forecast = model.predict(n_periods=len(df_valid), exogenous=df_valid[exogenous_features])\n",
    "df_valid[\"Forecast_ARIMAX\"] = forecast"
   ]
  },
  {
   "cell_type": "code",
   "execution_count": null,
   "metadata": {
    "colab": {
     "base_uri": "https://localhost:8080/",
     "height": 474
    },
    "id": "C7wwxfvqL8dh",
    "outputId": "d04f2031-6e28-4313-c1ee-780fa40b64e9"
   },
   "outputs": [
    {
     "data": {
      "text/plain": [
       "<matplotlib.axes._subplots.AxesSubplot at 0x7fb9787e1410>"
      ]
     },
     "execution_count": 30,
     "metadata": {
      "tags": []
     },
     "output_type": "execute_result"
    },
    {
     "data": {
      "image/png": "[encoded data removed]",
      "text/plain": [
       "<Figure size 1008x504 with 1 Axes>"
      ]
     },
     "metadata": {
      "needs_background": "light",
      "tags": []
     },
     "output_type": "display_data"
    }
   ],
   "source": [
    "df_valid[[\"VWAP\", \"Forecast_ARIMAX\"]].plot(figsize=(14, 7))"
   ]
  },
  {
   "cell_type": "markdown",
   "metadata": {
    "id": "WmcoXGeruUJ7"
   },
   "source": [
    "RMSE of Arima model is high"
   ]
  },
  {
   "cell_type": "code",
   "execution_count": null,
   "metadata": {
    "colab": {
     "base_uri": "https://localhost:8080/"
    },
    "id": "gDgpOo_oMBOH",
    "outputId": "56e38b3c-4aac-4f60-f845-003edc29b34e"
   },
   "outputs": [
    {
     "name": "stdout",
     "output_type": "stream",
     "text": [
      "RMSE of Auto ARIMAX: 498.2726304057678\n",
      "\n",
      "MAE of Auto ARIMAX: 426.437685349003\n"
     ]
    }
   ],
   "source": [
    "from sklearn.metrics import mean_absolute_error, mean_squared_error\n",
    "\n",
    "print(\"RMSE of Auto ARIMAX:\", np.sqrt(mean_squared_error(df_valid.VWAP, df_valid.Forecast_ARIMAX)))\n",
    "print(\"\\nMAE of Auto ARIMAX:\", mean_absolute_error(df_valid.VWAP, df_valid.Forecast_ARIMAX))"
   ]
  },
  {
   "cell_type": "markdown",
   "metadata": {
    "id": "T9WXvi2AuN_t"
   },
   "source": [
    "**LSTM Model:**"
   ]
  },
  {
   "cell_type": "code",
   "execution_count": null,
   "metadata": {
    "id": "IcP1f_nMMDxx"
   },
   "outputs": [],
   "source": [
    "from sklearn.metrics import mean_squared_error\n",
    "from sklearn.preprocessing import MinMaxScaler\n",
    "from sklearn.metrics import mean_absolute_error\n",
    "from tensorflow.keras import layers\n",
    "from keras.models import Sequential\n",
    "from keras.layers import Dense\n",
    "from keras.layers import LSTM\n",
    "from keras.layers import RNN\n",
    "from keras.layers import Dropout\n",
    "from keras.layers import *\n",
    "from keras.callbacks import EarlyStopping\n",
    "from math import sqrt\n",
    "from sklearn.model_selection import train_test_split\n",
    "import tensorflow as tf\n",
    "from tensorflow import keras\n",
    "df4=df3.copy()"
   ]
  },
  {
   "cell_type": "code",
   "execution_count": null,
   "metadata": {
    "id": "fzpc4cJmMIIC"
   },
   "outputs": [],
   "source": [
    "dataset = df4.values\n",
    "dataset = dataset.astype('float32')\n",
    "scaler = MinMaxScaler(feature_range=(0, 1))\n",
    "dataset = scaler.fit_transform(dataset)\n",
    "train_size = int(len(dataset) * 0.80)\n",
    "test_size = len(dataset) - train_size\n",
    "train, test = dataset[0:train_size,:], dataset[train_size:len(dataset),:]\n",
    "X_train = train[:,1:]\n",
    "y_train = train[:,0]\n",
    "X_test = test[:,1:]\n",
    "y_test = test[:,0]"
   ]
  },
  {
   "cell_type": "code",
   "execution_count": null,
   "metadata": {
    "id": "QGw6SlcXMN3J"
   },
   "outputs": [],
   "source": [
    "batch_size = 1\n",
    "timesteps = 1\n",
    "units = 100\n",
    "nb_epoch = 70"
   ]
  },
  {
   "cell_type": "code",
   "execution_count": null,
   "metadata": {
    "id": "2V-CSqyvMP3p"
   },
   "outputs": [],
   "source": [
    "X_train = X_train.reshape(X_train.shape[0],timesteps,X_train.shape[1])\n",
    "X_test = X_test.reshape(X_test.shape[0],timesteps,X_test.shape[1])"
   ]
  },
  {
   "cell_type": "code",
   "execution_count": null,
   "metadata": {
    "colab": {
     "base_uri": "https://localhost:8080/"
    },
    "id": "MSpu37dIMR87",
    "outputId": "263de822-c2b8-44c3-caa1-f904bd6d7839"
   },
   "outputs": [
    {
     "name": "stdout",
     "output_type": "stream",
     "text": [
      "Model: \"sequential\"\n",
      "_________________________________________________________________\n",
      "Layer (type)                 Output Shape              Param #   \n",
      "=================================================================\n",
      "lstm (LSTM)                  (1, 100)                  53200     \n",
      "_________________________________________________________________\n",
      "dense (Dense)                (1, 1)                    101       \n",
      "=================================================================\n",
      "Total params: 53,301\n",
      "Trainable params: 53,301\n",
      "Non-trainable params: 0\n",
      "_________________________________________________________________\n"
     ]
    }
   ],
   "source": [
    "model = Sequential()\n",
    "model.add(LSTM(units,batch_input_shape=(batch_size, X_train.shape[1], X_train.shape[2]), stateful=True))\n",
    "model.add(Dense(1))\n",
    "model.compile(loss='mean_squared_error', optimizer='adam')\n",
    "history=model.fit(X_train, y_train,epochs=nb_epoch,batch_size=batch_size, validation_data=(X_test, y_test),callbacks=[EarlyStopping(monitor='val_loss', patience=21)],verbose=0,shuffle=False)\n",
    "model.summary()"
   ]
  },
  {
   "cell_type": "markdown",
   "metadata": {
    "id": "cpVn-ik0uCkb"
   },
   "source": [
    "RMSE of LSTM is very less compared to Arima; 0.116 only"
   ]
  },
  {
   "cell_type": "code",
   "execution_count": null,
   "metadata": {
    "colab": {
     "base_uri": "https://localhost:8080/"
    },
    "id": "RhIzJwMbMcPD",
    "outputId": "d9ca4cd6-5906-4912-9eae-252232d2f79d"
   },
   "outputs": [
    {
     "name": "stdout",
     "output_type": "stream",
     "text": [
      "rmse:0.11612750111510316 MAE:0.10493119060993195\n"
     ]
    }
   ],
   "source": [
    "yhat = model.predict(X_test, batch_size=batch_size)\n",
    "rmse = sqrt(mean_squared_error(y_test, yhat))\n",
    "mae=mean_absolute_error(y_test, yhat)\n",
    "print('rmse:{} MAE:{}'.format(rmse,mae))"
   ]
  },
  {
   "cell_type": "code",
   "execution_count": null,
   "metadata": {
    "colab": {
     "base_uri": "https://localhost:8080/",
     "height": 299
    },
    "id": "wprDExViMofp",
    "outputId": "bb5739c5-1a13-4bbc-9f53-73f7782bc96e"
   },
   "outputs": [
    {
     "data": {
      "image/png": "[encoded data removed]",
      "text/plain": [
       "<Figure size 576x288 with 1 Axes>"
      ]
     },
     "metadata": {
      "needs_background": "light",
      "tags": []
     },
     "output_type": "display_data"
    }
   ],
   "source": [
    "plt.figure(figsize=(8,4))\n",
    "plt.plot(history.history['loss'], label='Train Loss')\n",
    "plt.plot(history.history['val_loss'], label='Test Loss')\n",
    "plt.title('LSTM model loss')\n",
    "plt.ylabel('loss')\n",
    "plt.xlabel('epochs')\n",
    "plt.legend(loc='upper right')\n",
    "plt.show();"
   ]
  },
  {
   "cell_type": "code",
   "execution_count": null,
   "metadata": {
    "colab": {
     "base_uri": "https://localhost:8080/",
     "height": 316
    },
    "id": "GSCZv-daMuJo",
    "outputId": "95d650a7-0f1a-4beb-852b-0a1d82c97861"
   },
   "outputs": [
    {
     "data": {
      "image/png": "[encoded data removed]",
      "text/plain": [
       "<Figure size 576x288 with 1 Axes>"
      ]
     },
     "metadata": {
      "needs_background": "light",
      "tags": []
     },
     "output_type": "display_data"
    }
   ],
   "source": [
    "plt.figure(figsize=(8,4))\n",
    "plt.plot(y_test, marker='.', label=\"actual\")\n",
    "plt.plot(yhat, label=\"prediction\")\n",
    "plt.tick_params(left=False, labelleft=True)\n",
    "plt.tight_layout()\n",
    "sns.despine(top=True)\n",
    "plt.subplots_adjust(left=0.07)\n",
    "plt.ylabel('Vwap', size=15)\n",
    "plt.xlabel('points', size=15)\n",
    "plt.legend(fontsize=15)\n",
    "plt.show();"
   ]
  }
 ],
 "metadata": {
  "colab": {
   "name": "Main-code.ipynb",
   "provenance": []
  },
  "kernelspec": {
   "display_name": "Python 3",
   "language": "python",
   "name": "python3"
  },
  "language_info": {
   "codemirror_mode": {
    "name": "ipython",
    "version": 3
   },
   "file_extension": ".py",
   "mimetype": "text/x-python",
   "name": "python",
   "nbconvert_exporter": "python",
   "pygments_lexer": "ipython3",
   "version": "3.8.3"
  }
 },
 "nbformat": 4,
 "nbformat_minor": 1
}
